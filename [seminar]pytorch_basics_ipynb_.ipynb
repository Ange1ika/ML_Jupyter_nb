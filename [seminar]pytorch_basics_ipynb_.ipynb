{
  "nbformat": 4,
  "nbformat_minor": 0,
  "metadata": {
    "colab": {
      "provenance": []
    },
    "kernelspec": {
      "name": "python3",
      "display_name": "Python 3"
    },
    "accelerator": "GPU"
  },
  "cells": [
    {
      "cell_type": "markdown",
      "metadata": {
        "id": "5RETQ6CxbdOz"
      },
      "source": [
        "<p style=\"align: center;\"><img align=center src=\"https://s8.hostingkartinok.com/uploads/images/2018/08/308b49fcfbc619d629fe4604bceb67ac.jpg\" width=550 height=450/></p>\n",
        "\n",
        "<h3 style=\"text-align: center;\"><b>\"Глубокое обучение\". Продвинутый поток</b></h3>\n",
        "\n",
        "<h2 style=\"text-align: center;\"><b>Семинар 6. Основы библиотеки PyTorch </b></h2>\n"
      ]
    },
    {
      "cell_type": "markdown",
      "metadata": {
        "id": "-Iv1eX2mYJ8v"
      },
      "source": [
        "<p style=\"align: center;\"><img src=\"https://upload.wikimedia.org/wikipedia/commons/9/96/Pytorch_logo.png\" width=400 height=100></p>"
      ]
    },
    {
      "cell_type": "markdown",
      "metadata": {
        "id": "JwiKExhuYJ8w"
      },
      "source": [
        "Этот ноутбук посвящён основам  библиотеки PyTorch."
      ]
    },
    {
      "cell_type": "markdown",
      "metadata": {
        "id": "70_JTnaRbdPD"
      },
      "source": [
        "<h3 style=\"text-align: center;\"><b>Введение</b></h3>"
      ]
    },
    {
      "cell_type": "markdown",
      "metadata": {
        "id": "tQoex-sZYJ8x"
      },
      "source": [
        "В настоящее время существует множество фреймворков глубокого обучения. Разница между ними заключается во внутренних принципах вычислений. Например, в **[Caffe](http://caffe.berkeleyvision.org/)** и **[Caffe2](https://caffe2.ai/)** вы пишете код, используя некоторые «готовые блоки» \"(как и $ LEGO ^ {TM} $ :). В **[TensorFlow](https://www.tensorflow.org/)** и **[Theano](http://deeplearning.net/software/theano/)** вы сначала объявляете граф вычислений, затем компилируйте его и используйте для вывода / обучения (`tf.session ()`). Кстати, теперь в TensorFlow (начиная с версии 1.10) есть функция [Eager Execution](https://www.tensorflow.org/guide/eager), которая может быть полезна для быстрого прототипирования и отладки. **[Keras](https://keras.io/)** - очень популярный и полезный фреймворк DL, который позволяет быстро реализовывать нейронный сети и имеет множество полезных функций.\n"
      ]
    },
    {
      "cell_type": "markdown",
      "metadata": {
        "id": "97MX7yrBYJ8y"
      },
      "source": [
        "<p style=\"align: center;\"><img src=\"https://habrastorage.org/web/e3e/c3e/b78/e3ec3eb78d714a7993a6b922911c0866.png\" width=500 height=500></p>  \n",
        "<p style=\"text-align: center;\"><i>Image credit: https://habr.com/post/334380/</i><p>"
      ]
    },
    {
      "cell_type": "markdown",
      "metadata": {
        "id": "h5yBQj7EbdPJ"
      },
      "source": [
        "Мы будем использовать **PyTorch**, поскольку он активно развивается и поддерживается AI-сообществом"
      ]
    },
    {
      "cell_type": "markdown",
      "metadata": {
        "id": "J74O-qdJYJ80"
      },
      "source": [
        "<h3 style=\"text-align: center;\"><b>Установка</b></h3>"
      ]
    },
    {
      "cell_type": "markdown",
      "metadata": {
        "id": "WpXxZ4-4YJ83"
      },
      "source": [
        "Подробную инструкцию по установке PyTorch вы можете найти на [официальном сайте PyTorch](https://pytorch.org/)."
      ]
    },
    {
      "cell_type": "markdown",
      "metadata": {
        "id": "uxdjjnqIYJ86"
      },
      "source": [
        "## Синтаксис Фреймворка"
      ]
    },
    {
      "cell_type": "code",
      "metadata": {
        "id": "RtyozNmmYJ89"
      },
      "source": [
        "import torch"
      ],
      "execution_count": null,
      "outputs": []
    },
    {
      "cell_type": "markdown",
      "metadata": {
        "id": "zjfLQzEPYJ9B"
      },
      "source": [
        "Несколько фактов о PyTorch:\n",
        "- динамический граф вычислений\n",
        "- удобные модули `torch.nn` и `torchvision` для быстрого прототипирования нейронных сетей\n",
        "- даже быстрее, чем TensorFlow на некоторых задачах\n",
        "- позволяет легко использовать **GPU**"
      ]
    },
    {
      "cell_type": "markdown",
      "metadata": {
        "id": "44AAEPIpu8Mq"
      },
      "source": [
        "По своей сути PyTorch предоставляет две основные функции:\n",
        "\n",
        "- n-мерный тензор, похожий на **numpy**, но может работать на графических процессорах\n",
        "- Автоматическая дифференциация для построения и обучения нейронных сетей"
      ]
    },
    {
      "cell_type": "markdown",
      "metadata": {
        "id": "0AL-T8TMYJ9D"
      },
      "source": [
        "Если бы PyTorch был формулой, она была бы такой:\n",
        "\n",
        "$$PyTorch = NumPy + CUDA + Autograd$$"
      ]
    },
    {
      "cell_type": "markdown",
      "metadata": {
        "id": "X_O59VXWYJ9E"
      },
      "source": [
        "(CUDA - [wiki](https://en.wikipedia.org/wiki/CUDA))"
      ]
    },
    {
      "cell_type": "markdown",
      "metadata": {
        "id": "lWIeTFxSYJ9F"
      },
      "source": [
        "Давайте посмотрим, как мы можем использовать PyTorch для работы с векторами и тензорами.\n",
        "\n",
        "Напомним, что **тензор** - это многомерный вектор, например :\n",
        "\n",
        "`x = np.array ([1,2,3])` - вектор = тензор с 1 размерностью (точнее: `(3,)`)\n",
        "\n",
        "`y = np.array ([[1, 2, 3], [4, 5, 6]])` - матрица = тензор с двумя измерениями (`(2, 3)` в данном случае)\n",
        "\n",
        "`z = np.array ([[[1, 2, 3], [4, 5, 6], [7, 8, 9]]],\n",
        "               [[1, 2, 3], [4, 5, 6], [7, 8, 9]],\n",
        "               [[1, 2, 3], [4, 5, 6], [7, 8, 9]]]) `-\" куб \"(3, 3, 3) = тензор с тремя измерениями (` ( 3, 3, 3) `в этом случае)\n"
      ]
    },
    {
      "cell_type": "markdown",
      "metadata": {
        "id": "hS97vo7mYJ9G"
      },
      "source": [
        "Одним из реальных примеров трехмерного тензора является **изображение**, оно имеет 3 измерения: `высота`, `ширина` и `глубина канала` (глубина канала = 3 для цветных изображений, 1 для оттенков серого). Вы можете думать об этом как о параллелепипеде, состоящем из действительных чисел.\n"
      ]
    },
    {
      "cell_type": "markdown",
      "metadata": {
        "id": "byu7xZtLYJ9J"
      },
      "source": [
        "### Типы Тензоров"
      ]
    },
    {
      "cell_type": "markdown",
      "metadata": {
        "id": "tEeGGtRiYJ9H"
      },
      "source": [
        "В PyTorch мы будем использовать `torch.Tensor` (`FloatTensor`, `IntTensor`, `ByteTensor`) для всех вычислений.\n",
        "\n",
        "Все типы:"
      ]
    },
    {
      "cell_type": "code",
      "metadata": {
        "id": "zilSktmEGgAv",
        "colab": {
          "base_uri": "https://localhost:8080/"
        },
        "outputId": "07dd7d1e-e151-4ee0-eccd-618ebb747fe1"
      },
      "source": [
        "torch.HalfTensor      # 16 бит, floating point\n",
        "torch.FloatTensor     # 32 бита, floating point\n",
        "torch.DoubleTensor    # 64 бита, floating point\n",
        "\n",
        "torch.ShortTensor     # 16 бит, integer, signed\n",
        "torch.IntTensor       # 32 бита, integer, signed\n",
        "torch.LongTensor      # 64 бита, integer, signed\n",
        "\n",
        "torch.CharTensor      # 8 бит, integer, signed\n",
        "torch.ByteTensor      # 8 бит, integer, unsigned"
      ],
      "execution_count": null,
      "outputs": [
        {
          "output_type": "execute_result",
          "data": {
            "text/plain": [
              "torch.ByteTensor"
            ]
          },
          "metadata": {},
          "execution_count": 2
        }
      ]
    },
    {
      "cell_type": "markdown",
      "metadata": {
        "id": "NWk2gidNYJ9P"
      },
      "source": [
        "Мы будем использовать только `torch.FloatTensor()` и `torch.IntTensor()`."
      ]
    },
    {
      "cell_type": "markdown",
      "metadata": {
        "id": "CllyEKvVYJ9Q"
      },
      "source": [
        "Начнем уже что-нибудь писать!"
      ]
    },
    {
      "cell_type": "markdown",
      "metadata": {
        "id": "R4HEetsxYJ9Q"
      },
      "source": [
        "### Создание тензора"
      ]
    },
    {
      "cell_type": "code",
      "metadata": {
        "id": "MVawE9lRYJ9R",
        "colab": {
          "base_uri": "https://localhost:8080/"
        },
        "outputId": "fce9dff9-3dce-4bf7-a14b-1f5332c2764e"
      },
      "source": [
        "a = torch.FloatTensor([1, 2])\n",
        "a\n"
      ],
      "execution_count": null,
      "outputs": [
        {
          "output_type": "execute_result",
          "data": {
            "text/plain": [
              "tensor([1., 2.])"
            ]
          },
          "metadata": {},
          "execution_count": 3
        }
      ]
    },
    {
      "cell_type": "code",
      "metadata": {
        "id": "ARjaPS_GYJ9W",
        "colab": {
          "base_uri": "https://localhost:8080/"
        },
        "outputId": "d1e1c53f-637b-480c-f692-b15560aec451"
      },
      "source": [
        "a.shape"
      ],
      "execution_count": null,
      "outputs": [
        {
          "output_type": "execute_result",
          "data": {
            "text/plain": [
              "torch.Size([2])"
            ]
          },
          "metadata": {},
          "execution_count": 4
        }
      ]
    },
    {
      "cell_type": "code",
      "metadata": {
        "id": "4gXf0akDYJ9Z",
        "colab": {
          "base_uri": "https://localhost:8080/"
        },
        "outputId": "0e6650dc-f211-415b-d320-8069f5bee1b6"
      },
      "source": [
        "b = torch.FloatTensor([[1,2,3], [4,5,6]])\n",
        "b"
      ],
      "execution_count": null,
      "outputs": [
        {
          "output_type": "execute_result",
          "data": {
            "text/plain": [
              "tensor([[1., 2., 3.],\n",
              "        [4., 5., 6.]])"
            ]
          },
          "metadata": {},
          "execution_count": 5
        }
      ]
    },
    {
      "cell_type": "code",
      "metadata": {
        "id": "0HTkoIzpYJ9e",
        "colab": {
          "base_uri": "https://localhost:8080/"
        },
        "outputId": "d38b9832-acc8-4151-bf85-c68ab4ec2973"
      },
      "source": [
        "b.shape"
      ],
      "execution_count": null,
      "outputs": [
        {
          "output_type": "execute_result",
          "data": {
            "text/plain": [
              "torch.Size([2, 3])"
            ]
          },
          "metadata": {},
          "execution_count": 6
        }
      ]
    },
    {
      "cell_type": "code",
      "metadata": {
        "id": "WYJ9L-yFYJ9j"
      },
      "source": [
        "x = torch.FloatTensor(2,3,4)"
      ],
      "execution_count": null,
      "outputs": []
    },
    {
      "cell_type": "code",
      "metadata": {
        "id": "qWAEP27IYJ9m",
        "colab": {
          "base_uri": "https://localhost:8080/"
        },
        "outputId": "8fe95d26-aeb0-45e2-8784-10c026d39e39"
      },
      "source": [
        "x"
      ],
      "execution_count": null,
      "outputs": [
        {
          "output_type": "execute_result",
          "data": {
            "text/plain": [
              "tensor([[[0., 0., 0., 0.],\n",
              "         [0., 0., 0., 0.],\n",
              "         [0., 0., 0., 0.]],\n",
              "\n",
              "        [[0., 0., 0., 0.],\n",
              "         [0., 0., 0., 0.],\n",
              "         [0., 0., 0., 0.]]])"
            ]
          },
          "metadata": {},
          "execution_count": 9
        }
      ]
    },
    {
      "cell_type": "code",
      "metadata": {
        "id": "o5CsOJ_xYJ9s",
        "scrolled": true,
        "colab": {
          "base_uri": "https://localhost:8080/"
        },
        "outputId": "aac105ce-86bc-4994-8b44-066493bb9fed"
      },
      "source": [
        "x = torch.FloatTensor(100)\n",
        "x"
      ],
      "execution_count": null,
      "outputs": [
        {
          "output_type": "execute_result",
          "data": {
            "text/plain": [
              "tensor([-1.7966e-14,  4.5527e-41, -1.7966e-14,  4.5527e-41, -7.7914e+10,\n",
              "         3.2821e-41, -7.7914e+10,  3.2821e-41,  0.0000e+00,  0.0000e+00,\n",
              "         0.0000e+00,  0.0000e+00,  0.0000e+00,  0.0000e+00,  0.0000e+00,\n",
              "         0.0000e+00,  0.0000e+00,  0.0000e+00,  0.0000e+00,  0.0000e+00,\n",
              "         0.0000e+00,  0.0000e+00,  0.0000e+00,  0.0000e+00,  0.0000e+00,\n",
              "         0.0000e+00,  1.1473e+22,  4.5527e-41,  1.1473e+22,  4.5527e-41,\n",
              "         0.0000e+00,  0.0000e+00,  0.0000e+00,  0.0000e+00,  0.0000e+00,\n",
              "         0.0000e+00,  0.0000e+00,  0.0000e+00,  0.0000e+00,  0.0000e+00,\n",
              "         0.0000e+00,  0.0000e+00,  0.0000e+00,  0.0000e+00,  0.0000e+00,\n",
              "         0.0000e+00,  0.0000e+00,  0.0000e+00,  0.0000e+00,  0.0000e+00,\n",
              "         0.0000e+00,  0.0000e+00,  0.0000e+00,  0.0000e+00,  0.0000e+00,\n",
              "         0.0000e+00,  0.0000e+00,  0.0000e+00,  0.0000e+00,  0.0000e+00,\n",
              "         0.0000e+00,  0.0000e+00,  0.0000e+00,  0.0000e+00,  0.0000e+00,\n",
              "         0.0000e+00,  0.0000e+00,  0.0000e+00,  0.0000e+00,  0.0000e+00,\n",
              "         0.0000e+00,  0.0000e+00,  0.0000e+00,  0.0000e+00,  0.0000e+00,\n",
              "         0.0000e+00,  0.0000e+00,  0.0000e+00,  0.0000e+00,  0.0000e+00,\n",
              "         0.0000e+00,  0.0000e+00,  0.0000e+00,  0.0000e+00,  0.0000e+00,\n",
              "         0.0000e+00,  0.0000e+00,  0.0000e+00,  0.0000e+00,  0.0000e+00,\n",
              "         0.0000e+00,  0.0000e+00,  0.0000e+00,  0.0000e+00,  0.0000e+00,\n",
              "         0.0000e+00,  0.0000e+00,  0.0000e+00,  0.0000e+00,  0.0000e+00])"
            ]
          },
          "metadata": {},
          "execution_count": 10
        }
      ]
    },
    {
      "cell_type": "code",
      "metadata": {
        "id": "uIVhvmzZYJ91",
        "colab": {
          "base_uri": "https://localhost:8080/"
        },
        "outputId": "2870e10c-1440-405b-8a89-cea9e37f72e7"
      },
      "source": [
        "x = torch.IntTensor(45, 57, 14, 2)\n",
        "x.shape"
      ],
      "execution_count": null,
      "outputs": [
        {
          "output_type": "execute_result",
          "data": {
            "text/plain": [
              "torch.Size([45, 57, 14, 2])"
            ]
          },
          "metadata": {},
          "execution_count": 11
        }
      ]
    },
    {
      "cell_type": "markdown",
      "metadata": {
        "id": "cUzl8DFRYJ95"
      },
      "source": [
        "**Примечание:** если вы создаете `torch.Tensor` с помощью следующего конструктора, он будет заполнен мусором из \"случайных номеров\":"
      ]
    },
    {
      "cell_type": "code",
      "metadata": {
        "id": "QX0QcIOzYJ96",
        "colab": {
          "base_uri": "https://localhost:8080/"
        },
        "outputId": "8a040bab-4e2a-43fd-f747-a369a4e76427"
      },
      "source": [
        "x = torch.IntTensor(3, 2, 4)\n",
        "x"
      ],
      "execution_count": null,
      "outputs": [
        {
          "output_type": "execute_result",
          "data": {
            "text/plain": [
              "tensor([[[         0,      23422, 1936532091, 1684627303],\n",
              "         [ 572537378,  875979062, 1647665506,  811950637]],\n",
              "\n",
              "        [[1681471025, 1715037494, 1717723442, 1664692784],\n",
              "         [ 895890736,  943284069,  572533794, 1600615277]],\n",
              "\n",
              "        [[1701869940,  572537378, 1667594341, 1600484469],\n",
              "         [1819305330,  539763321, 1702065442, 1835101810]]], dtype=torch.int32)"
            ]
          },
          "metadata": {},
          "execution_count": 12
        }
      ]
    },
    {
      "cell_type": "markdown",
      "metadata": {
        "id": "utra2t4SbdQR"
      },
      "source": [
        "### Инициализации тензоров"
      ]
    },
    {
      "cell_type": "code",
      "metadata": {
        "id": "XV3w9lVwYJ-A"
      },
      "source": [
        "x1 = torch.FloatTensor(3, 2, 4)\n",
        "x1.zero_()\n",
        "x2 = torch.zeros(3, 2, 4)\n",
        "x3 = torch.zeros_like(x1)\n",
        "\n",
        "assert torch.allclose(x1, x2) and torch.allclose(x1, x3)"
      ],
      "execution_count": null,
      "outputs": []
    },
    {
      "cell_type": "markdown",
      "metadata": {
        "id": "G3el1HwZd9wJ"
      },
      "source": [
        "Инициализация случайного распределения"
      ]
    },
    {
      "cell_type": "code",
      "metadata": {
        "id": "-ahnCFMXe_9I",
        "colab": {
          "base_uri": "https://localhost:8080/"
        },
        "outputId": "44097e9a-04fa-4434-d761-720f8028a45b"
      },
      "source": [
        "x = torch.randn((2,3))                # Normal(0, 1) с размером (2, 3)\n",
        "x"
      ],
      "execution_count": null,
      "outputs": [
        {
          "output_type": "execute_result",
          "data": {
            "text/plain": [
              "tensor([[ 1.0795,  1.4462,  0.1323],\n",
              "        [-0.0537,  0.4072,  0.0044]])"
            ]
          },
          "metadata": {},
          "execution_count": 14
        }
      ]
    },
    {
      "cell_type": "code",
      "metadata": {
        "id": "FhIy_yuRd9Kf",
        "colab": {
          "base_uri": "https://localhost:8080/"
        },
        "outputId": "1f9a6962-1be8-47eb-8ff4-f5a7a2df42b1"
      },
      "source": [
        "x.random_(0, 10)                      # Дискретное равномерно U[0, 10]\n",
        "x.uniform_(0, 1)                      # Равномерно U[0, 1]\n",
        "x.normal_(mean=0, std=1)              # Нормальное со средним 0 и дисперсией 1\n",
        "x.bernoulli_(p=0.5)                   # bernoulli with parameter p"
      ],
      "execution_count": null,
      "outputs": [
        {
          "output_type": "execute_result",
          "data": {
            "text/plain": [
              "tensor([[0., 1., 1.],\n",
              "        [1., 1., 0.]])"
            ]
          },
          "metadata": {},
          "execution_count": 15
        }
      ]
    },
    {
      "cell_type": "markdown",
      "metadata": {
        "id": "bzq1klQuzXA9"
      },
      "source": [
        "## Функции в Torch\n",
        "\n",
        "У всех функций Numpy есть своя пара в Torch! Осталось теперь вспомнить numpy 🙂\n",
        "\n",
        "https://github.com/torch/torch7/wiki/Torch-for-Numpy-users"
      ]
    },
    {
      "cell_type": "markdown",
      "metadata": {
        "id": "SAAmLRwzYJ-E"
      },
      "source": [
        "### Изменение формы\n",
        "`np.reshape()` == `torch.view()`:"
      ]
    },
    {
      "cell_type": "code",
      "metadata": {
        "colab": {
          "base_uri": "https://localhost:8080/"
        },
        "id": "LLOoLEMDl8Cl",
        "outputId": "316ed447-b240-4fee-a3cf-cd0b86dd22a1"
      },
      "source": [
        "b"
      ],
      "execution_count": null,
      "outputs": [
        {
          "output_type": "execute_result",
          "data": {
            "text/plain": [
              "tensor([[1., 2., 3.],\n",
              "        [4., 5., 6.]])"
            ]
          },
          "metadata": {},
          "execution_count": 21
        }
      ]
    },
    {
      "cell_type": "code",
      "metadata": {
        "colab": {
          "base_uri": "https://localhost:8080/"
        },
        "id": "vLu6QvQihvGA",
        "outputId": "b65aedab-36a9-4a91-86fc-32435c7b1a4d"
      },
      "source": [
        "b.view(3, 2).shape"
      ],
      "execution_count": null,
      "outputs": [
        {
          "output_type": "execute_result",
          "data": {
            "text/plain": [
              "torch.Size([3, 2])"
            ]
          },
          "metadata": {},
          "execution_count": 22
        }
      ]
    },
    {
      "cell_type": "code",
      "metadata": {
        "colab": {
          "base_uri": "https://localhost:8080/"
        },
        "id": "BAET_xQhl_2f",
        "outputId": "ddc7d4a9-eb01-4c47-b7f6-83ac3830651c"
      },
      "source": [
        "b"
      ],
      "execution_count": null,
      "outputs": [
        {
          "output_type": "execute_result",
          "data": {
            "text/plain": [
              "tensor([[1., 2., 3.],\n",
              "        [4., 5., 6.]])"
            ]
          },
          "metadata": {},
          "execution_count": 23
        }
      ]
    },
    {
      "cell_type": "code",
      "metadata": {
        "id": "spMYG2xXYJ-L",
        "colab": {
          "base_uri": "https://localhost:8080/"
        },
        "outputId": "9465bbfa-8121-4471-bc6c-81557b80ca86"
      },
      "source": [
        "b, b.stride()"
      ],
      "execution_count": null,
      "outputs": [
        {
          "output_type": "execute_result",
          "data": {
            "text/plain": [
              "(tensor([[1., 2., 3.],\n",
              "         [4., 5., 6.]]), (3, 1))"
            ]
          },
          "metadata": {},
          "execution_count": 24
        }
      ]
    },
    {
      "cell_type": "code",
      "metadata": {
        "id": "ePjL3X3GYJ-H",
        "colab": {
          "base_uri": "https://localhost:8080/"
        },
        "outputId": "a0e06364-61e9-475d-ca36-5b9c28b01387"
      },
      "source": [
        "b.view(3, 2), b.view(3, 2).stride()"
      ],
      "execution_count": null,
      "outputs": [
        {
          "output_type": "execute_result",
          "data": {
            "text/plain": [
              "(tensor([[1., 2.],\n",
              "         [3., 4.],\n",
              "         [5., 6.]]), (2, 1))"
            ]
          },
          "metadata": {},
          "execution_count": 31
        }
      ]
    },
    {
      "cell_type": "markdown",
      "metadata": {
        "id": "amVu0N1zYJ-O"
      },
      "source": [
        "**Примечание:** `torch.view ()` создает новый тензор, но старый остается неизменным"
      ]
    },
    {
      "cell_type": "code",
      "metadata": {
        "id": "hWqyugOSYJ-Q",
        "colab": {
          "base_uri": "https://localhost:8080/"
        },
        "outputId": "ed94a8d8-41a3-4a7b-b7bf-2c27fe62b569"
      },
      "source": [
        "b.view(-1, 2)"
      ],
      "execution_count": null,
      "outputs": [
        {
          "output_type": "execute_result",
          "data": {
            "text/plain": [
              "tensor([[1., 2.],\n",
              "        [3., 4.],\n",
              "        [5., 6.]])"
            ]
          },
          "metadata": {},
          "execution_count": 40
        }
      ]
    },
    {
      "cell_type": "code",
      "metadata": {
        "id": "S9CvF56uYJ-U",
        "colab": {
          "base_uri": "https://localhost:8080/"
        },
        "outputId": "fe2f9279-d516-4c04-ef95-561f1cad5f4b"
      },
      "source": [
        "b"
      ],
      "execution_count": null,
      "outputs": [
        {
          "output_type": "execute_result",
          "data": {
            "text/plain": [
              "tensor([[1., 2., 3.],\n",
              "        [4., 5., 6.]])"
            ]
          },
          "metadata": {},
          "execution_count": 41
        }
      ]
    },
    {
      "cell_type": "code",
      "metadata": {
        "id": "MVrFVwTNYd3S",
        "colab": {
          "base_uri": "https://localhost:8080/"
        },
        "outputId": "65a2432b-c5f6-410c-9e22-113864cea1e7"
      },
      "source": [
        "b.T.stride(), b.is_contiguous(), b.T.is_contiguous()"
      ],
      "execution_count": null,
      "outputs": [
        {
          "output_type": "execute_result",
          "data": {
            "text/plain": [
              "((1, 3), True, False)"
            ]
          },
          "metadata": {},
          "execution_count": 29
        }
      ]
    },
    {
      "cell_type": "code",
      "metadata": {
        "id": "0hZucnNac_x1"
      },
      "source": [],
      "execution_count": null,
      "outputs": []
    },
    {
      "cell_type": "markdown",
      "metadata": {
        "id": "IVYx1j_HUl2d"
      },
      "source": [
        "<img src='https://lh3.googleusercontent.com/proxy/pbQ8C9YLVguU2LzlfE2-57lC3KK3yIRsQnpaTOK9S2UPpopvnZ3JhgeMcT6_kqYL56xq18ZFqddzPhszZg1W9YY--y-qDD2-bJrjVYivMdpQgRqiumwh6PpJYU3cL5Mua9RNeVp6xK0'>"
      ]
    },
    {
      "cell_type": "code",
      "metadata": {
        "id": "mjBCZ1fEJN5B",
        "colab": {
          "base_uri": "https://localhost:8080/"
        },
        "outputId": "ca03c774-804b-4efd-f395-05e10f61d1e4"
      },
      "source": [
        "b.reshape(-1) # возвращает view или contigues тензор"
      ],
      "execution_count": null,
      "outputs": [
        {
          "output_type": "execute_result",
          "data": {
            "text/plain": [
              "tensor([1., 2., 3., 4., 5., 6.])"
            ]
          },
          "metadata": {},
          "execution_count": 42
        }
      ]
    },
    {
      "cell_type": "code",
      "metadata": {
        "id": "wet5p_4uJRm6",
        "colab": {
          "base_uri": "https://localhost:8080/"
        },
        "outputId": "3ff29e31-aa4f-4f3d-bcfd-6ab7f1f0823d"
      },
      "source": [
        "b"
      ],
      "execution_count": null,
      "outputs": [
        {
          "output_type": "execute_result",
          "data": {
            "text/plain": [
              "tensor([[1., 2., 3.],\n",
              "        [4., 5., 6.]])"
            ]
          },
          "metadata": {},
          "execution_count": 43
        }
      ]
    },
    {
      "cell_type": "markdown",
      "metadata": {
        "id": "t401j1E2YJ-Z"
      },
      "source": [
        "### Изменение типа тензора"
      ]
    },
    {
      "cell_type": "code",
      "metadata": {
        "id": "f_iDUEH4YJ-Z"
      },
      "source": [
        "a = torch.FloatTensor([1.5, 3.2, -7])"
      ],
      "execution_count": null,
      "outputs": []
    },
    {
      "cell_type": "code",
      "metadata": {
        "id": "EzJOrXitYJ-e",
        "colab": {
          "base_uri": "https://localhost:8080/"
        },
        "outputId": "dd112a82-f363-4831-bf1f-eb612b320804"
      },
      "source": [
        "a.type_as(torch.IntTensor())"
      ],
      "execution_count": null,
      "outputs": [
        {
          "output_type": "execute_result",
          "data": {
            "text/plain": [
              "tensor([1, 2], dtype=torch.int32)"
            ]
          },
          "metadata": {},
          "execution_count": 44
        }
      ]
    },
    {
      "cell_type": "code",
      "metadata": {
        "id": "5LrO73QgJuGb",
        "colab": {
          "base_uri": "https://localhost:8080/"
        },
        "outputId": "6b3efcd1-9a4f-4cda-ba6f-99eaaac9e1d4"
      },
      "source": [
        "a.to(torch.int32)"
      ],
      "execution_count": null,
      "outputs": [
        {
          "output_type": "execute_result",
          "data": {
            "text/plain": [
              "tensor([1, 2], dtype=torch.int32)"
            ]
          },
          "metadata": {},
          "execution_count": 45
        }
      ]
    },
    {
      "cell_type": "code",
      "metadata": {
        "id": "hAe3OWWUYJ-i",
        "colab": {
          "base_uri": "https://localhost:8080/"
        },
        "outputId": "86aa0aae-8043-4eeb-a9b7-7c43c5a3aa17"
      },
      "source": [
        "a.type_as(torch.ByteTensor())"
      ],
      "execution_count": null,
      "outputs": [
        {
          "output_type": "execute_result",
          "data": {
            "text/plain": [
              "tensor([1, 2], dtype=torch.uint8)"
            ]
          },
          "metadata": {},
          "execution_count": 46
        }
      ]
    },
    {
      "cell_type": "code",
      "metadata": {
        "id": "6rOGMU_xJ450",
        "colab": {
          "base_uri": "https://localhost:8080/"
        },
        "outputId": "1f24d1ed-4caa-41d4-d35b-81f865fd7f64"
      },
      "source": [
        "a.to(torch.uint8)"
      ],
      "execution_count": null,
      "outputs": [
        {
          "output_type": "execute_result",
          "data": {
            "text/plain": [
              "tensor([1, 2], dtype=torch.uint8)"
            ]
          },
          "metadata": {},
          "execution_count": 47
        }
      ]
    },
    {
      "cell_type": "markdown",
      "metadata": {
        "id": "4rkatrUeYJ-n"
      },
      "source": [
        "**Note:** `.type_as()` creates a new tensor, the old one remains unchanged"
      ]
    },
    {
      "cell_type": "code",
      "metadata": {
        "id": "fCgDT14MYJ-o",
        "colab": {
          "base_uri": "https://localhost:8080/"
        },
        "outputId": "b0bb7f6e-b2a1-4e08-cdc7-308f64106e11"
      },
      "source": [
        "a"
      ],
      "execution_count": null,
      "outputs": [
        {
          "output_type": "execute_result",
          "data": {
            "text/plain": [
              "tensor([1., 2.])"
            ]
          },
          "metadata": {},
          "execution_count": 48
        }
      ]
    },
    {
      "cell_type": "markdown",
      "metadata": {
        "id": "hG1OwtFBYJ-r"
      },
      "source": [
        "* Indexing is just like in `NumPy`:"
      ]
    },
    {
      "cell_type": "code",
      "metadata": {
        "id": "prr0EGIYYJ-r",
        "colab": {
          "base_uri": "https://localhost:8080/"
        },
        "outputId": "f2fdb1bf-991a-4551-e332-66a6a2f38924"
      },
      "source": [
        "a = torch.FloatTensor([[100, 20, 35], [15, 163, 534], [52, 90, 66]])\n",
        "a"
      ],
      "execution_count": null,
      "outputs": [
        {
          "output_type": "execute_result",
          "data": {
            "text/plain": [
              "tensor([[100.,  20.,  35.],\n",
              "        [ 15., 163., 534.],\n",
              "        [ 52.,  90.,  66.]])"
            ]
          },
          "metadata": {},
          "execution_count": 49
        }
      ]
    },
    {
      "cell_type": "code",
      "metadata": {
        "id": "IBq7JiccYJ-w",
        "colab": {
          "base_uri": "https://localhost:8080/"
        },
        "outputId": "9fc31169-f3a5-439a-cd3b-3fca1ec0ecbb"
      },
      "source": [
        "a[0, 0]"
      ],
      "execution_count": null,
      "outputs": [
        {
          "output_type": "execute_result",
          "data": {
            "text/plain": [
              "tensor(100.)"
            ]
          },
          "metadata": {},
          "execution_count": 50
        }
      ]
    },
    {
      "cell_type": "code",
      "metadata": {
        "id": "UUZzx2F_YJ-2",
        "colab": {
          "base_uri": "https://localhost:8080/"
        },
        "outputId": "7031bbca-c5f6-4fae-a3e3-79294dc7ac50"
      },
      "source": [
        "a[0:2, 1]"
      ],
      "execution_count": null,
      "outputs": [
        {
          "output_type": "execute_result",
          "data": {
            "text/plain": [
              "tensor([ 20., 163.])"
            ]
          },
          "metadata": {},
          "execution_count": 52
        }
      ]
    },
    {
      "cell_type": "markdown",
      "metadata": {
        "id": "KffQsYwWYJ_D"
      },
      "source": [
        "### Арифметические операции\n",
        "\n",
        "| операция | аналоги |\n",
        "|:-:|:-:|\n",
        "|`+`| `torch.add()` |\n",
        "|`-`| `torch.sub()` |\n",
        "|`*`| `torch.mul()` |\n",
        "|`/`| `torch.div()` |"
      ]
    },
    {
      "cell_type": "markdown",
      "metadata": {
        "id": "UMpR8T11YJ_D"
      },
      "source": [
        "#### Сложение"
      ]
    },
    {
      "cell_type": "code",
      "metadata": {
        "id": "1XHkSjEUYJ_D"
      },
      "source": [
        "a = torch.FloatTensor([[1, 2, 3], [10, 20, 30], [100, 200, 300]])\n",
        "b = torch.FloatTensor([[-1, -2, -3], [-10, -20, -30], [100, 200, 300]])"
      ],
      "execution_count": null,
      "outputs": []
    },
    {
      "cell_type": "code",
      "metadata": {
        "id": "td25tuFKYJ_H",
        "colab": {
          "base_uri": "https://localhost:8080/"
        },
        "outputId": "e9a45c64-1b54-4606-c2ef-1199105d2d05"
      },
      "source": [
        "a + b"
      ],
      "execution_count": null,
      "outputs": [
        {
          "output_type": "execute_result",
          "data": {
            "text/plain": [
              "tensor([[  0.,   0.,   0.],\n",
              "        [  0.,   0.,   0.],\n",
              "        [200., 400., 600.]])"
            ]
          },
          "metadata": {},
          "execution_count": 54
        }
      ]
    },
    {
      "cell_type": "code",
      "metadata": {
        "id": "wHka8PxFYJ_N",
        "colab": {
          "base_uri": "https://localhost:8080/"
        },
        "outputId": "1736d82c-bfdb-4b4a-f9f2-8cf5519394fc"
      },
      "source": [
        "a.add(b)"
      ],
      "execution_count": null,
      "outputs": [
        {
          "output_type": "execute_result",
          "data": {
            "text/plain": [
              "tensor([[  0.,   0.,   0.],\n",
              "        [  0.,   0.,   0.],\n",
              "        [200., 400., 600.]])"
            ]
          },
          "metadata": {},
          "execution_count": 55
        }
      ]
    },
    {
      "cell_type": "code",
      "metadata": {
        "id": "FHQj4DbBYJ_Q",
        "colab": {
          "base_uri": "https://localhost:8080/"
        },
        "outputId": "3ec26615-d6cb-4e0f-a2f2-11ed4d229927"
      },
      "source": [
        "b = -a\n",
        "b"
      ],
      "execution_count": null,
      "outputs": [
        {
          "output_type": "execute_result",
          "data": {
            "text/plain": [
              "tensor([[  -1.,   -2.,   -3.],\n",
              "        [ -10.,  -20.,  -30.],\n",
              "        [-100., -200., -300.]])"
            ]
          },
          "metadata": {},
          "execution_count": 56
        }
      ]
    },
    {
      "cell_type": "code",
      "metadata": {
        "id": "xLCDzO7iYJ_V",
        "colab": {
          "base_uri": "https://localhost:8080/"
        },
        "outputId": "64ce8d45-4da2-4963-8361-05906f1cf968"
      },
      "source": [
        "a + b"
      ],
      "execution_count": null,
      "outputs": [
        {
          "output_type": "execute_result",
          "data": {
            "text/plain": [
              "tensor([[0., 0., 0.],\n",
              "        [0., 0., 0.],\n",
              "        [0., 0., 0.]])"
            ]
          },
          "metadata": {},
          "execution_count": 57
        }
      ]
    },
    {
      "cell_type": "markdown",
      "metadata": {
        "id": "z_3gVLY3YJ_Z"
      },
      "source": [
        "#### Вычитание"
      ]
    },
    {
      "cell_type": "code",
      "metadata": {
        "id": "PANHq3eFYJ_a",
        "colab": {
          "base_uri": "https://localhost:8080/"
        },
        "outputId": "84c62349-b107-45ed-8105-915e7ad2807b"
      },
      "source": [
        "a - b"
      ],
      "execution_count": null,
      "outputs": [
        {
          "output_type": "execute_result",
          "data": {
            "text/plain": [
              "tensor([[  2.,   4.,   6.],\n",
              "        [ 20.,  40.,  60.],\n",
              "        [200., 400., 600.]])"
            ]
          },
          "metadata": {},
          "execution_count": 58
        }
      ]
    },
    {
      "cell_type": "code",
      "metadata": {
        "id": "AH7xhdkRYJ_i",
        "colab": {
          "base_uri": "https://localhost:8080/"
        },
        "outputId": "e86f6eda-5117-44a3-b67b-829006f4fff8"
      },
      "source": [
        "a.sub(b) # copy"
      ],
      "execution_count": null,
      "outputs": [
        {
          "output_type": "execute_result",
          "data": {
            "text/plain": [
              "tensor([[  3.,   6.,   9.],\n",
              "        [ 30.,  60.,  90.],\n",
              "        [300., 600., 900.]])"
            ]
          },
          "metadata": {},
          "execution_count": 63
        }
      ]
    },
    {
      "cell_type": "code",
      "metadata": {
        "id": "v-sls6QjK98V",
        "colab": {
          "base_uri": "https://localhost:8080/"
        },
        "outputId": "d0098f45-5fd8-43d6-ad50-ad5b01bc7b7b"
      },
      "source": [
        "a.sub_(b) # inplace"
      ],
      "execution_count": null,
      "outputs": [
        {
          "output_type": "execute_result",
          "data": {
            "text/plain": [
              "tensor([[   4.,    8.,   12.],\n",
              "        [  40.,   80.,  120.],\n",
              "        [ 400.,  800., 1200.]])"
            ]
          },
          "metadata": {},
          "execution_count": 65
        }
      ]
    },
    {
      "cell_type": "markdown",
      "metadata": {
        "id": "KOX3dTuZYJ_l"
      },
      "source": [
        "#### Умножение (поэлементное)"
      ]
    },
    {
      "cell_type": "code",
      "metadata": {
        "id": "J380CvNGYJ_m",
        "colab": {
          "base_uri": "https://localhost:8080/"
        },
        "outputId": "1c194f31-d53f-4097-e252-a126c7a6d8ea"
      },
      "source": [
        "a * b"
      ],
      "execution_count": null,
      "outputs": [
        {
          "output_type": "execute_result",
          "data": {
            "text/plain": [
              "tensor([[-4.0000e+00, -1.6000e+01, -3.6000e+01],\n",
              "        [-4.0000e+02, -1.6000e+03, -3.6000e+03],\n",
              "        [-4.0000e+04, -1.6000e+05, -3.6000e+05]])"
            ]
          },
          "metadata": {},
          "execution_count": 66
        }
      ]
    },
    {
      "cell_type": "code",
      "metadata": {
        "id": "cixW0jgdYJ_o",
        "colab": {
          "base_uri": "https://localhost:8080/"
        },
        "outputId": "5b6e4971-5032-4200-ca63-f7f25bc9dd3c"
      },
      "source": [
        "a.mul(b)"
      ],
      "execution_count": null,
      "outputs": [
        {
          "output_type": "execute_result",
          "data": {
            "text/plain": [
              "tensor([[-4.0000e+00, -1.6000e+01, -3.6000e+01],\n",
              "        [-4.0000e+02, -1.6000e+03, -3.6000e+03],\n",
              "        [-4.0000e+04, -1.6000e+05, -3.6000e+05]])"
            ]
          },
          "metadata": {},
          "execution_count": 67
        }
      ]
    },
    {
      "cell_type": "markdown",
      "metadata": {
        "id": "V-GYTERKYJ_q"
      },
      "source": [
        "#### Деление (поэлементное):"
      ]
    },
    {
      "cell_type": "code",
      "metadata": {
        "id": "fUBQns2SYJ_r"
      },
      "source": [
        "a = torch.FloatTensor([[1, 2, 3], [10, 20, 30], [100, 200, 300]])\n",
        "b = torch.FloatTensor([[-1, -2, -3], [-10, -20, -30], [100, 200, 300]])"
      ],
      "execution_count": null,
      "outputs": []
    },
    {
      "cell_type": "code",
      "metadata": {
        "id": "2hrKeMjAYJ_v",
        "colab": {
          "base_uri": "https://localhost:8080/"
        },
        "outputId": "5ef8fab2-da30-406b-b0a6-3aae04de9e1c"
      },
      "source": [
        "a / b"
      ],
      "execution_count": null,
      "outputs": [
        {
          "output_type": "execute_result",
          "data": {
            "text/plain": [
              "tensor([[-1., -1., -1.],\n",
              "        [-1., -1., -1.],\n",
              "        [ 1.,  1.,  1.]])"
            ]
          },
          "metadata": {},
          "execution_count": 69
        }
      ]
    },
    {
      "cell_type": "code",
      "metadata": {
        "id": "cpg3YFVPYJ_2",
        "colab": {
          "base_uri": "https://localhost:8080/"
        },
        "outputId": "d7813f61-f134-41a5-eea2-77abd21f7ffb"
      },
      "source": [
        "a.div(b)"
      ],
      "execution_count": null,
      "outputs": [
        {
          "output_type": "execute_result",
          "data": {
            "text/plain": [
              "tensor([[-1., -1., -1.],\n",
              "        [-1., -1., -1.],\n",
              "        [ 1.,  1.,  1.]])"
            ]
          },
          "metadata": {},
          "execution_count": 70
        }
      ]
    },
    {
      "cell_type": "markdown",
      "metadata": {
        "id": "VeLAbx1tYJ_7"
      },
      "source": [
        "**Примечание:** все эти операции создают новые тензоры, старые тензоры остаются неизменными."
      ]
    },
    {
      "cell_type": "code",
      "metadata": {
        "id": "57BFtnlgYJ_8",
        "colab": {
          "base_uri": "https://localhost:8080/"
        },
        "outputId": "3b41b3df-8c26-40ba-fd50-ea6d86080d2f"
      },
      "source": [
        "a"
      ],
      "execution_count": null,
      "outputs": [
        {
          "output_type": "execute_result",
          "data": {
            "text/plain": [
              "tensor([[  1.,   2.,   3.],\n",
              "        [ 10.,  20.,  30.],\n",
              "        [100., 200., 300.]])"
            ]
          },
          "metadata": {},
          "execution_count": 71
        }
      ]
    },
    {
      "cell_type": "code",
      "metadata": {
        "id": "UziXyvtDYJ_-",
        "colab": {
          "base_uri": "https://localhost:8080/"
        },
        "outputId": "3a77920d-7fbc-4927-f221-5e8f7b1bc2f2"
      },
      "source": [
        "b"
      ],
      "execution_count": null,
      "outputs": [
        {
          "output_type": "execute_result",
          "data": {
            "text/plain": [
              "tensor([[ -1.,  -2.,  -3.],\n",
              "        [-10., -20., -30.],\n",
              "        [100., 200., 300.]])"
            ]
          },
          "metadata": {},
          "execution_count": 72
        }
      ]
    },
    {
      "cell_type": "markdown",
      "metadata": {
        "id": "vLpwZPc3YKAC"
      },
      "source": [
        "### Операторы сравнения"
      ]
    },
    {
      "cell_type": "code",
      "metadata": {
        "id": "FfRzvw_UYKAC"
      },
      "source": [
        "a = torch.FloatTensor([[1, 2, 3], [10, 20, 30], [100, 200, 300]])\n",
        "b = torch.FloatTensor([[-1, -2, -3], [-10, -20, -30], [100, 200, 300]])"
      ],
      "execution_count": null,
      "outputs": []
    },
    {
      "cell_type": "code",
      "metadata": {
        "id": "o1RUTP2BYKAD",
        "colab": {
          "base_uri": "https://localhost:8080/"
        },
        "outputId": "4a611a77-f313-48f6-e293-095eb0f76cdf"
      },
      "source": [
        "a == b"
      ],
      "execution_count": null,
      "outputs": [
        {
          "output_type": "execute_result",
          "data": {
            "text/plain": [
              "tensor([[False, False, False],\n",
              "        [False, False, False],\n",
              "        [ True,  True,  True]])"
            ]
          },
          "metadata": {},
          "execution_count": 73
        }
      ]
    },
    {
      "cell_type": "code",
      "metadata": {
        "id": "JO3HaVIAYKAF",
        "colab": {
          "base_uri": "https://localhost:8080/"
        },
        "outputId": "49111463-ef42-4067-e354-3eb134338f3d"
      },
      "source": [
        "a != b"
      ],
      "execution_count": null,
      "outputs": [
        {
          "output_type": "execute_result",
          "data": {
            "text/plain": [
              "tensor([[ True,  True,  True],\n",
              "        [ True,  True,  True],\n",
              "        [False, False, False]])"
            ]
          },
          "metadata": {},
          "execution_count": 74
        }
      ]
    },
    {
      "cell_type": "code",
      "metadata": {
        "id": "DExLBj4VYKAH",
        "colab": {
          "base_uri": "https://localhost:8080/"
        },
        "outputId": "5d502c89-47b9-4df2-b32f-8f152cfb2a7e"
      },
      "source": [
        "a < b"
      ],
      "execution_count": null,
      "outputs": [
        {
          "output_type": "execute_result",
          "data": {
            "text/plain": [
              "tensor([[False, False, False],\n",
              "        [False, False, False],\n",
              "        [False, False, False]])"
            ]
          },
          "metadata": {},
          "execution_count": 76
        }
      ]
    },
    {
      "cell_type": "code",
      "metadata": {
        "id": "0_IH_FUNYKAJ",
        "colab": {
          "base_uri": "https://localhost:8080/"
        },
        "outputId": "92e7db00-81d1-4ad8-d642-ef68cc70bbe7"
      },
      "source": [
        "a > b"
      ],
      "execution_count": null,
      "outputs": [
        {
          "output_type": "execute_result",
          "data": {
            "text/plain": [
              "tensor([[ True,  True,  True],\n",
              "        [ True,  True,  True],\n",
              "        [False, False, False]])"
            ]
          },
          "metadata": {},
          "execution_count": 77
        }
      ]
    },
    {
      "cell_type": "markdown",
      "metadata": {
        "id": "24nzBJR8YKAM"
      },
      "source": [
        "### Использование индексации по логической маске"
      ]
    },
    {
      "cell_type": "code",
      "metadata": {
        "id": "C-xVDslwYKAN",
        "colab": {
          "base_uri": "https://localhost:8080/"
        },
        "outputId": "6ef2584b-9233-4573-e391-ad92e199cc11"
      },
      "source": [
        "a[a > b]"
      ],
      "execution_count": null,
      "outputs": [
        {
          "output_type": "execute_result",
          "data": {
            "text/plain": [
              "tensor([ 1.,  2.,  3., 10., 20., 30.])"
            ]
          },
          "metadata": {},
          "execution_count": 79
        }
      ]
    },
    {
      "cell_type": "code",
      "metadata": {
        "id": "XatDJF5YYKAQ",
        "colab": {
          "base_uri": "https://localhost:8080/"
        },
        "outputId": "0e4e7c4e-b9be-4363-9425-9092ffa1f873"
      },
      "source": [
        "b[a == b]"
      ],
      "execution_count": null,
      "outputs": [
        {
          "output_type": "execute_result",
          "data": {
            "text/plain": [
              "tensor([100., 200., 300.])"
            ]
          },
          "metadata": {},
          "execution_count": 80
        }
      ]
    },
    {
      "cell_type": "markdown",
      "metadata": {
        "id": "54bQky1bYKAf"
      },
      "source": [
        "### Поэлементное применение **универсальных функций**"
      ]
    },
    {
      "cell_type": "code",
      "metadata": {
        "id": "lWnGSuUhYKAf"
      },
      "source": [
        "a = torch.FloatTensor([[1, 2, 3], [10, 20, 30], [100, 200, 300]])"
      ],
      "execution_count": null,
      "outputs": []
    },
    {
      "cell_type": "code",
      "metadata": {
        "id": "J6ZyxZBNYKAl",
        "colab": {
          "base_uri": "https://localhost:8080/"
        },
        "outputId": "f907d445-3a9b-4705-da3d-ea977c3a4caa"
      },
      "source": [
        "a.sin()"
      ],
      "execution_count": null,
      "outputs": [
        {
          "output_type": "execute_result",
          "data": {
            "text/plain": [
              "tensor([[ 0.8415,  0.9093,  0.1411],\n",
              "        [-0.5440,  0.9129, -0.9880],\n",
              "        [-0.5064, -0.8733, -0.9998]])"
            ]
          },
          "metadata": {},
          "execution_count": 81
        }
      ]
    },
    {
      "cell_type": "code",
      "metadata": {
        "id": "SScTSkJMYKAo",
        "colab": {
          "base_uri": "https://localhost:8080/"
        },
        "outputId": "1334afb7-570d-4a35-ec5b-164c4ca144f8"
      },
      "source": [
        "torch.sin(a)"
      ],
      "execution_count": null,
      "outputs": [
        {
          "output_type": "execute_result",
          "data": {
            "text/plain": [
              "tensor([[ 0.8415,  0.9093,  0.1411],\n",
              "        [-0.5440,  0.9129, -0.9880],\n",
              "        [-0.5064, -0.8733, -0.9998]])"
            ]
          },
          "metadata": {},
          "execution_count": 82
        }
      ]
    },
    {
      "cell_type": "code",
      "metadata": {
        "id": "0bYVYVV7YKAr",
        "colab": {
          "base_uri": "https://localhost:8080/"
        },
        "outputId": "24b7e541-4040-44c9-a520-77bbe3485388"
      },
      "source": [
        "a.tan()"
      ],
      "execution_count": null,
      "outputs": [
        {
          "output_type": "execute_result",
          "data": {
            "text/plain": [
              "tensor([[ 1.5574, -2.1850, -0.1425],\n",
              "        [ 0.6484,  2.2372, -6.4053],\n",
              "        [-0.5872, -1.7925, 45.2447]])"
            ]
          },
          "metadata": {},
          "execution_count": 83
        }
      ]
    },
    {
      "cell_type": "code",
      "metadata": {
        "id": "c-rYL8HQYKAt",
        "colab": {
          "base_uri": "https://localhost:8080/"
        },
        "outputId": "f44b9173-efbd-4cc1-c68a-80c4151683d8"
      },
      "source": [
        "a.exp()"
      ],
      "execution_count": null,
      "outputs": [
        {
          "output_type": "execute_result",
          "data": {
            "text/plain": [
              "tensor([[2.7183e+00, 7.3891e+00, 2.0086e+01],\n",
              "        [2.2026e+04, 4.8517e+08, 1.0686e+13],\n",
              "        [       inf,        inf,        inf]])"
            ]
          },
          "metadata": {},
          "execution_count": 84
        }
      ]
    },
    {
      "cell_type": "code",
      "metadata": {
        "id": "EbiCDYUzYKAw",
        "colab": {
          "base_uri": "https://localhost:8080/"
        },
        "outputId": "b0a12eb8-24d3-4008-9a87-8c1bc2a37d2f"
      },
      "source": [
        "a.log()"
      ],
      "execution_count": null,
      "outputs": [
        {
          "output_type": "execute_result",
          "data": {
            "text/plain": [
              "tensor([[0.0000, 0.6931, 1.0986],\n",
              "        [2.3026, 2.9957, 3.4012],\n",
              "        [4.6052, 5.2983, 5.7038]])"
            ]
          },
          "metadata": {},
          "execution_count": 85
        }
      ]
    },
    {
      "cell_type": "code",
      "metadata": {
        "id": "yh1sySpiYKAy",
        "colab": {
          "base_uri": "https://localhost:8080/"
        },
        "outputId": "71f5fc95-c70b-4037-cfb6-3ecc3d262d03"
      },
      "source": [
        "b = -a\n",
        "b"
      ],
      "execution_count": null,
      "outputs": [
        {
          "output_type": "execute_result",
          "data": {
            "text/plain": [
              "tensor([[  -1.,   -2.,   -3.],\n",
              "        [ -10.,  -20.,  -30.],\n",
              "        [-100., -200., -300.]])"
            ]
          },
          "metadata": {},
          "execution_count": 86
        }
      ]
    },
    {
      "cell_type": "code",
      "metadata": {
        "id": "PNU0UxqIYKA2",
        "colab": {
          "base_uri": "https://localhost:8080/"
        },
        "outputId": "17008632-fa44-448a-cc87-fe7b1373d05a"
      },
      "source": [
        "b.abs()"
      ],
      "execution_count": null,
      "outputs": [
        {
          "output_type": "execute_result",
          "data": {
            "text/plain": [
              "tensor([[  1.,   2.,   3.],\n",
              "        [ 10.,  20.,  30.],\n",
              "        [100., 200., 300.]])"
            ]
          },
          "metadata": {},
          "execution_count": 87
        }
      ]
    },
    {
      "cell_type": "markdown",
      "metadata": {
        "id": "eqERQjISYKA9"
      },
      "source": [
        "### Агрегация и работа с осями\n",
        "#### sum, mean, max, min:"
      ]
    },
    {
      "cell_type": "code",
      "metadata": {
        "id": "HLmJGdl9YKA-",
        "colab": {
          "base_uri": "https://localhost:8080/"
        },
        "outputId": "a6204bea-32bb-447d-cf8c-7574ebb164ec"
      },
      "source": [
        "a.sum(dim=1)"
      ],
      "execution_count": null,
      "outputs": [
        {
          "output_type": "execute_result",
          "data": {
            "text/plain": [
              "tensor([  6.,  60., 600.])"
            ]
          },
          "metadata": {},
          "execution_count": 88
        }
      ]
    },
    {
      "cell_type": "code",
      "metadata": {
        "id": "ervIuNGnYKBD",
        "colab": {
          "base_uri": "https://localhost:8080/"
        },
        "outputId": "ff444bc6-c56e-43eb-9ea1-d4551194e16a"
      },
      "source": [
        "a.mean()"
      ],
      "execution_count": null,
      "outputs": [
        {
          "output_type": "execute_result",
          "data": {
            "text/plain": [
              "tensor(74.)"
            ]
          },
          "metadata": {},
          "execution_count": 89
        }
      ]
    },
    {
      "cell_type": "markdown",
      "metadata": {
        "id": "1qxkdUQ2YKBF"
      },
      "source": [
        "#### Применение функции вдоль оси"
      ]
    },
    {
      "cell_type": "code",
      "metadata": {
        "id": "OzU2H7jBbdS-",
        "colab": {
          "base_uri": "https://localhost:8080/"
        },
        "outputId": "a701fb53-3b9b-435c-cb17-620c69315d7c"
      },
      "source": [
        "a"
      ],
      "execution_count": null,
      "outputs": [
        {
          "output_type": "execute_result",
          "data": {
            "text/plain": [
              "tensor([[  1.,   2.,   3.],\n",
              "        [ 10.,  20.,  30.],\n",
              "        [100., 200., 300.]])"
            ]
          },
          "metadata": {},
          "execution_count": 90
        }
      ]
    },
    {
      "cell_type": "code",
      "metadata": {
        "id": "cc6RjJYeYKBG",
        "colab": {
          "base_uri": "https://localhost:8080/"
        },
        "outputId": "78e942a6-5820-4fde-88d2-d5e1ce0665c9"
      },
      "source": [
        "a.sum(dim=0)"
      ],
      "execution_count": null,
      "outputs": [
        {
          "output_type": "execute_result",
          "data": {
            "text/plain": [
              "tensor([111., 222., 333.])"
            ]
          },
          "metadata": {},
          "execution_count": 91
        }
      ]
    },
    {
      "cell_type": "code",
      "metadata": {
        "id": "Dgi5BmhOYKBJ",
        "colab": {
          "base_uri": "https://localhost:8080/"
        },
        "outputId": "a6e73d38-78bc-42d2-da86-bccd3f9bb772"
      },
      "source": [
        "a.sum(dim=1)"
      ],
      "execution_count": null,
      "outputs": [
        {
          "output_type": "execute_result",
          "data": {
            "text/plain": [
              "tensor([  6.,  60., 600.])"
            ]
          },
          "metadata": {},
          "execution_count": 92
        }
      ]
    },
    {
      "cell_type": "code",
      "metadata": {
        "id": "-tIkcTENYKBK",
        "colab": {
          "base_uri": "https://localhost:8080/"
        },
        "outputId": "bd0f3557-ca04-4c9d-94f5-1c01947f4432"
      },
      "source": [
        "a.max()"
      ],
      "execution_count": null,
      "outputs": [
        {
          "output_type": "execute_result",
          "data": {
            "text/plain": [
              "tensor(300.)"
            ]
          },
          "metadata": {},
          "execution_count": 93
        }
      ]
    },
    {
      "cell_type": "code",
      "metadata": {
        "id": "V4U_LyyPYKBL",
        "colab": {
          "base_uri": "https://localhost:8080/"
        },
        "outputId": "b3e7f4e1-2ade-4d73-f3f5-16a9e1af266b"
      },
      "source": [
        "a.max(0)"
      ],
      "execution_count": null,
      "outputs": [
        {
          "output_type": "execute_result",
          "data": {
            "text/plain": [
              "torch.return_types.max(values=tensor([100., 200., 300.]), indices=tensor([2, 2, 2]))"
            ]
          },
          "metadata": {},
          "execution_count": 94
        }
      ]
    },
    {
      "cell_type": "markdown",
      "metadata": {
        "id": "Ys-9hnr4YKBS"
      },
      "source": [
        "**Примечание:** второй тензор, возвращаемый `.max()`, содержит индексы элементов max вдоль этой оси. Например. в этом случае `a.max ()` вернула `(100, 200, 300)`, которые являются минимальными элементами по оси 0 (вдоль столбцов), а их индексы по оси 0 равны `(2, 2, 2)`.\n"
      ]
    },
    {
      "cell_type": "markdown",
      "metadata": {
        "id": "utha2fm_zdmx"
      },
      "source": [
        "#### Фиктивные оси\n",
        "\n",
        "Иногда очень сложно бывает разобраться, как правильно выбрать оси для применения операций с многомерными массивами. Поэтому сейчас мы решим на эту тему пару задач.\n",
        "Сначала посмотрим, как создавать у массивов новые фиктивные оси, это нам пригодится."
      ]
    },
    {
      "cell_type": "code",
      "metadata": {
        "id": "0E6stC7-0J1r",
        "colab": {
          "base_uri": "https://localhost:8080/"
        },
        "outputId": "b1cb55df-4011-47e0-c643-51effd8011f5"
      },
      "source": [
        "a = torch.FloatTensor([[1, 2, 3], [10, 20, 30], [100, 200, 300]])\n",
        "\n",
        "a[:, None, :].shape"
      ],
      "execution_count": null,
      "outputs": [
        {
          "output_type": "execute_result",
          "data": {
            "text/plain": [
              "torch.Size([3, 1, 3])"
            ]
          },
          "metadata": {},
          "execution_count": 34
        }
      ]
    },
    {
      "cell_type": "code",
      "metadata": {
        "id": "FgfUrKpk0fLg",
        "colab": {
          "base_uri": "https://localhost:8080/"
        },
        "outputId": "07a3b509-2385-4e86-b91e-1451349258f2"
      },
      "source": [
        "a[:, :, None]"
      ],
      "execution_count": null,
      "outputs": [
        {
          "output_type": "execute_result",
          "data": {
            "text/plain": [
              "tensor([[[  1.],\n",
              "         [  2.],\n",
              "         [  3.]],\n",
              "\n",
              "        [[ 10.],\n",
              "         [ 20.],\n",
              "         [ 30.]],\n",
              "\n",
              "        [[100.],\n",
              "         [200.],\n",
              "         [300.]]])"
            ]
          },
          "metadata": {},
          "execution_count": 98
        }
      ]
    },
    {
      "cell_type": "markdown",
      "metadata": {
        "id": "vwF56ibrw1Hz"
      },
      "source": [
        "#### Безобидная задача на кумулятивные суммы\n",
        "Дана матрица $M \\times N$. Напишите функцию, которая возвращает вектор средних значений по вертикали.\n",
        "\n"
      ]
    },
    {
      "cell_type": "code",
      "metadata": {
        "id": "29X7MxuqxwIU",
        "colab": {
          "base_uri": "https://localhost:8080/"
        },
        "outputId": "ae1e8954-29ad-4f3d-b81e-4a9ffe8583d9"
      },
      "source": [
        "def vertical_means(A):\n",
        "    \"\"\"\n",
        "    param A: torch.tensor[m,n]\n",
        "    \"\"\"\n",
        "\n",
        "    result = A.mean(dim=0)\n",
        "\n",
        "    return result # <YOUR CODE>\n",
        "\n",
        "A = torch.FloatTensor([[1, 4],\n",
        "                       [2, 7]] )\n",
        "\n",
        "vertical_means(A)"
      ],
      "execution_count": null,
      "outputs": [
        {
          "output_type": "execute_result",
          "data": {
            "text/plain": [
              "tensor([1.5000, 5.5000])"
            ]
          },
          "metadata": {},
          "execution_count": 35
        }
      ]
    },
    {
      "cell_type": "markdown",
      "metadata": {
        "id": "T6YOmemux0SI"
      },
      "source": [
        "**Проблемы:**\n",
        "\n",
        "* Что такое вертикальная ось?\n",
        "* По какой оси необходимо суммировать?\n",
        "* Как не ошибиться?\n",
        "\n",
        "**Ответ:** Операции всегда производятся по той оси, которая **исчезнет** после применения операции."
      ]
    },
    {
      "cell_type": "markdown",
      "metadata": {
        "id": "5YEpNZ3YyKzi"
      },
      "source": [
        "#### Задача на нормализацию изображения\n",
        "Реализуйте функцию ``normalize_pictures(A)``, которая принимает на вход четырёхмерный тензор --- батч из ``batch_size`` изображений, каждое из которых является трехмерным тензором формы (num_channels, width, height). Нужно стандартизировать изображение по каждому каналу, то есть сделать так, чтобы среднее значение яркости каждого канала (по всем изображениям и всем пикселям) было равно 0, а стандартное отклонение --- 1."
      ]
    },
    {
      "cell_type": "code",
      "metadata": {
        "id": "jNGjlcaVy3WT"
      },
      "source": [
        "def normalize_pictures(A):\n",
        "    \"\"\"\n",
        "    param A: torch.Tensor[batch_size, num_channels, width, height]\n",
        "    \"\"\"\n",
        "\n",
        "    m = A.mean(dim=(2,3))\n",
        "    sigma = A.std(dim =(2, 3))\n",
        "\n",
        "    result = (A - m[:, :, None, None])/sigma[:, :, None, None]\n",
        "\n",
        "\n",
        "    return result"
      ],
      "execution_count": null,
      "outputs": []
    },
    {
      "cell_type": "code",
      "metadata": {
        "id": "ZFUY4oookJ9i",
        "colab": {
          "base_uri": "https://localhost:8080/"
        },
        "outputId": "31191a1b-7476-4d3e-e421-7ddb7b984240"
      },
      "source": [
        "batch = torch.randint(0, 156, (64, 3, 300, 300), dtype=torch.float32)\n",
        "batch.mean(dim=(2,3)).shape"
      ],
      "execution_count": null,
      "outputs": [
        {
          "output_type": "execute_result",
          "data": {
            "text/plain": [
              "torch.Size([64, 3])"
            ]
          },
          "metadata": {},
          "execution_count": 37
        }
      ]
    },
    {
      "cell_type": "code",
      "metadata": {
        "id": "OttmzUHWzOiA"
      },
      "source": [
        "batch = torch.randint(0, 256, (64, 3, 300, 300), dtype=torch.float32)\n",
        "\n",
        "B = normalize_pictures(batch)\n",
        "# print(B.mean(dim=(2,3)).shape)\n",
        "# print(B.std(dim=(2,3)))"
      ],
      "execution_count": null,
      "outputs": []
    },
    {
      "cell_type": "code",
      "metadata": {
        "id": "qdubz4LkkCuW"
      },
      "source": [],
      "execution_count": null,
      "outputs": []
    },
    {
      "cell_type": "markdown",
      "metadata": {
        "id": "kepFeTZ0YKBV"
      },
      "source": [
        "## Матричные операции"
      ]
    },
    {
      "cell_type": "markdown",
      "metadata": {
        "id": "7RYm3mdrYKBX"
      },
      "source": [
        "#### Транспонирование тензора"
      ]
    },
    {
      "cell_type": "code",
      "metadata": {
        "id": "T8-1TSkeYKBY",
        "colab": {
          "base_uri": "https://localhost:8080/"
        },
        "outputId": "aca565b2-ea0c-4909-964a-05cc5a3e6f68"
      },
      "source": [
        "a = torch.FloatTensor([[1, 2, 3], [10, 20, 30], [100, 200, 300]])\n",
        "a"
      ],
      "execution_count": null,
      "outputs": [
        {
          "output_type": "execute_result",
          "data": {
            "text/plain": [
              "tensor([[  1.,   2.,   3.],\n",
              "        [ 10.,  20.,  30.],\n",
              "        [100., 200., 300.]])"
            ]
          },
          "metadata": {},
          "execution_count": 112
        }
      ]
    },
    {
      "cell_type": "code",
      "metadata": {
        "id": "HSAZwai7YKBa",
        "colab": {
          "base_uri": "https://localhost:8080/"
        },
        "outputId": "6506227d-85fc-4b22-e1a9-8b212c742d2b"
      },
      "source": [
        "a.t()"
      ],
      "execution_count": null,
      "outputs": [
        {
          "output_type": "execute_result",
          "data": {
            "text/plain": [
              "tensor([[  1.,  10., 100.],\n",
              "        [  2.,  20., 200.],\n",
              "        [  3.,  30., 300.]])"
            ]
          },
          "metadata": {},
          "execution_count": 113
        }
      ]
    },
    {
      "cell_type": "markdown",
      "metadata": {
        "id": "QqsPkleRYKBd"
      },
      "source": [
        "Это тоже не inplace-операция:"
      ]
    },
    {
      "cell_type": "code",
      "metadata": {
        "id": "NRPamd2EYKBe",
        "colab": {
          "base_uri": "https://localhost:8080/"
        },
        "outputId": "6a8d5de2-9753-4b25-a31d-7f3910a235fe"
      },
      "source": [
        "a"
      ],
      "execution_count": null,
      "outputs": [
        {
          "output_type": "execute_result",
          "data": {
            "text/plain": [
              "tensor([[  1.,   2.,   3.],\n",
              "        [ 10.,  20.,  30.],\n",
              "        [100., 200., 300.]])"
            ]
          },
          "metadata": {},
          "execution_count": 114
        }
      ]
    },
    {
      "cell_type": "markdown",
      "metadata": {
        "id": "q8YhoxHPYKBh"
      },
      "source": [
        "#### Скалярное произведение векторов"
      ]
    },
    {
      "cell_type": "code",
      "metadata": {
        "id": "i1pRtl7HYKBi"
      },
      "source": [
        "a = torch.FloatTensor([1, 2, 3, 4, 5, 6])\n",
        "b = torch.FloatTensor([-1, -2, -4, -6, -8, -10])"
      ],
      "execution_count": null,
      "outputs": []
    },
    {
      "cell_type": "code",
      "metadata": {
        "id": "qcS-28dwYKBp",
        "colab": {
          "base_uri": "https://localhost:8080/"
        },
        "outputId": "9846a5f9-d2bf-4b3f-caf0-056fc0109ee8"
      },
      "source": [
        "a.dot(b)"
      ],
      "execution_count": null,
      "outputs": [
        {
          "output_type": "execute_result",
          "data": {
            "text/plain": [
              "tensor(-141.)"
            ]
          },
          "metadata": {},
          "execution_count": 116
        }
      ]
    },
    {
      "cell_type": "code",
      "metadata": {
        "id": "sBiRR1V3LP-r",
        "colab": {
          "base_uri": "https://localhost:8080/"
        },
        "outputId": "b8b20971-79bb-4da6-b008-5e1a4a387b18"
      },
      "source": [
        "a.shape, b.shape"
      ],
      "execution_count": null,
      "outputs": [
        {
          "output_type": "execute_result",
          "data": {
            "text/plain": [
              "(torch.Size([6]), torch.Size([6]))"
            ]
          },
          "metadata": {},
          "execution_count": 117
        }
      ]
    },
    {
      "cell_type": "code",
      "metadata": {
        "id": "MXyhOelQYKBs",
        "colab": {
          "base_uri": "https://localhost:8080/"
        },
        "outputId": "4f92a038-5f36-43e2-a4be-a50d321e1fdb"
      },
      "source": [
        "a @ b"
      ],
      "execution_count": null,
      "outputs": [
        {
          "output_type": "execute_result",
          "data": {
            "text/plain": [
              "tensor(-141.)"
            ]
          },
          "metadata": {},
          "execution_count": 118
        }
      ]
    },
    {
      "cell_type": "code",
      "metadata": {
        "id": "sxqg4xhoYKBt",
        "colab": {
          "base_uri": "https://localhost:8080/"
        },
        "outputId": "cb1e601e-ecea-42f3-bf10-e12babfe57af"
      },
      "source": [
        "type(a)"
      ],
      "execution_count": null,
      "outputs": [
        {
          "output_type": "execute_result",
          "data": {
            "text/plain": [
              "torch.Tensor"
            ]
          },
          "metadata": {},
          "execution_count": 119
        }
      ]
    },
    {
      "cell_type": "code",
      "metadata": {
        "id": "_v2ZjPqDYKBz",
        "colab": {
          "base_uri": "https://localhost:8080/"
        },
        "outputId": "d524bb4f-caf7-4e39-d681-9850f9fe63ec"
      },
      "source": [
        "type(b)"
      ],
      "execution_count": null,
      "outputs": [
        {
          "output_type": "execute_result",
          "data": {
            "text/plain": [
              "torch.Tensor"
            ]
          },
          "metadata": {},
          "execution_count": 120
        }
      ]
    },
    {
      "cell_type": "code",
      "metadata": {
        "id": "UsWB9vTuYKB0",
        "colab": {
          "base_uri": "https://localhost:8080/"
        },
        "outputId": "37980664-95ee-4852-da62-5ca6772548a0"
      },
      "source": [
        "type(a @ b)"
      ],
      "execution_count": null,
      "outputs": [
        {
          "output_type": "execute_result",
          "data": {
            "text/plain": [
              "torch.Tensor"
            ]
          },
          "metadata": {},
          "execution_count": 121
        }
      ]
    },
    {
      "cell_type": "markdown",
      "metadata": {
        "id": "KSrnLwkGYKB1"
      },
      "source": [
        "#### Матричное произведение"
      ]
    },
    {
      "cell_type": "code",
      "metadata": {
        "id": "ViurnbjPYKB2"
      },
      "source": [
        "a = torch.FloatTensor([[1, 2, 3], [10, 20, 30], [100, 200, 300]])\n",
        "b = torch.FloatTensor([[-1, -2, -3], [-10, -20, -30], [100, 200, 300]])"
      ],
      "execution_count": null,
      "outputs": []
    },
    {
      "cell_type": "code",
      "metadata": {
        "id": "5TrCnfWiYKB3",
        "colab": {
          "base_uri": "https://localhost:8080/"
        },
        "outputId": "addf0dd6-e196-4ab3-c155-5c3cfe2131f2"
      },
      "source": [
        "a.mm(b)"
      ],
      "execution_count": null,
      "outputs": [
        {
          "output_type": "execute_result",
          "data": {
            "text/plain": [
              "tensor([[  279.,   558.,   837.],\n",
              "        [ 2790.,  5580.,  8370.],\n",
              "        [27900., 55800., 83700.]])"
            ]
          },
          "metadata": {},
          "execution_count": 17
        }
      ]
    },
    {
      "cell_type": "code",
      "metadata": {
        "id": "HMzIz-_MYKB4",
        "colab": {
          "base_uri": "https://localhost:8080/"
        },
        "outputId": "21c3ad7c-fd94-4658-f832-8b50324cde59"
      },
      "source": [
        "a @ b"
      ],
      "execution_count": null,
      "outputs": [
        {
          "output_type": "execute_result",
          "data": {
            "text/plain": [
              "tensor([[  279.,   558.,   837.],\n",
              "        [ 2790.,  5580.,  8370.],\n",
              "        [27900., 55800., 83700.]])"
            ]
          },
          "metadata": {},
          "execution_count": 18
        }
      ]
    },
    {
      "cell_type": "code",
      "metadata": {
        "id": "vtuvt20-YKB8"
      },
      "source": [
        "a = torch.FloatTensor([[1, 2, 3], [10, 20, 30], [100, 200, 300]])\n",
        "b = torch.FloatTensor([[-1], [-10], [100]])"
      ],
      "execution_count": null,
      "outputs": []
    },
    {
      "cell_type": "code",
      "metadata": {
        "id": "fdDnu5XjYKB9",
        "colab": {
          "base_uri": "https://localhost:8080/"
        },
        "outputId": "4feaf0de-c1d2-4f23-f9f7-b7f6235049e4"
      },
      "source": [
        "print(a.shape, b.shape)"
      ],
      "execution_count": null,
      "outputs": [
        {
          "output_type": "stream",
          "name": "stdout",
          "text": [
            "torch.Size([3, 3]) torch.Size([3, 3])\n"
          ]
        }
      ]
    },
    {
      "cell_type": "code",
      "metadata": {
        "id": "oD4N4WN8YKB_",
        "colab": {
          "base_uri": "https://localhost:8080/"
        },
        "outputId": "cf54b791-5cef-4f3a-db65-9c0b34238d4e"
      },
      "source": [
        "a @ b"
      ],
      "execution_count": null,
      "outputs": [
        {
          "output_type": "execute_result",
          "data": {
            "text/plain": [
              "tensor([[  279.,   558.,   837.],\n",
              "        [ 2790.,  5580.,  8370.],\n",
              "        [27900., 55800., 83700.]])"
            ]
          },
          "metadata": {},
          "execution_count": 20
        }
      ]
    },
    {
      "cell_type": "markdown",
      "metadata": {
        "id": "va9w-BavYKCB"
      },
      "source": [
        "Тензор `b` можно развернуть в одномерный массив с помощью функции `torch.view(-1)`, чтобы результат был вектором"
      ]
    },
    {
      "cell_type": "code",
      "metadata": {
        "id": "V7KsdYcBYKCC",
        "colab": {
          "base_uri": "https://localhost:8080/"
        },
        "outputId": "4d73d70d-aa4a-4fac-a2ba-2ca69a41704e"
      },
      "source": [
        "b"
      ],
      "execution_count": null,
      "outputs": [
        {
          "output_type": "execute_result",
          "data": {
            "text/plain": [
              "tensor([[ -1.,  -2.,  -3.],\n",
              "        [-10., -20., -30.],\n",
              "        [100., 200., 300.]])"
            ]
          },
          "metadata": {},
          "execution_count": 21
        }
      ]
    },
    {
      "cell_type": "code",
      "metadata": {
        "id": "t7k6spayYKCF",
        "colab": {
          "base_uri": "https://localhost:8080/"
        },
        "outputId": "b99e5bc8-d1dd-47be-fa32-388e5a3760cb"
      },
      "source": [
        "b.view(-1)"
      ],
      "execution_count": null,
      "outputs": [
        {
          "output_type": "execute_result",
          "data": {
            "text/plain": [
              "tensor([ -1.,  -2.,  -3., -10., -20., -30., 100., 200., 300.])"
            ]
          },
          "metadata": {},
          "execution_count": 22
        }
      ]
    },
    {
      "cell_type": "code",
      "metadata": {
        "id": "8u8xQ20bYKCH",
        "colab": {
          "base_uri": "https://localhost:8080/"
        },
        "outputId": "c5b424dc-6824-46d9-d356-251cf6926933"
      },
      "source": [
        "a @ b.view(-1)"
      ],
      "execution_count": null,
      "outputs": [
        {
          "output_type": "execute_result",
          "data": {
            "text/plain": [
              "tensor([  279.,  2790., 27900.])"
            ]
          },
          "metadata": {},
          "execution_count": 128
        }
      ]
    },
    {
      "cell_type": "code",
      "metadata": {
        "id": "QvCu1sJEYKCJ",
        "colab": {
          "base_uri": "https://localhost:8080/"
        },
        "outputId": "7dac2139-3516-4680-c588-3391fd199703"
      },
      "source": [
        "a.mv(b.view(-1))"
      ],
      "execution_count": null,
      "outputs": [
        {
          "output_type": "execute_result",
          "data": {
            "text/plain": [
              "tensor([  279.,  2790., 27900.])"
            ]
          },
          "metadata": {},
          "execution_count": 119
        }
      ]
    },
    {
      "cell_type": "code",
      "metadata": {
        "id": "MAuGNC7EL3lq",
        "colab": {
          "base_uri": "https://localhost:8080/"
        },
        "outputId": "b97080cb-21cc-4145-db12-e9e13dc00537"
      },
      "source": [
        "y = torch.Tensor(2, 3, 4, 5)\n",
        "z = torch.Tensor(2, 3, 5, 6)\n",
        "(y @ z).shape"
      ],
      "execution_count": null,
      "outputs": [
        {
          "output_type": "execute_result",
          "data": {
            "text/plain": [
              "torch.Size([2, 3, 4, 6])"
            ]
          },
          "metadata": {},
          "execution_count": 120
        }
      ]
    },
    {
      "cell_type": "markdown",
      "metadata": {
        "id": "gZitrCN6YKCL"
      },
      "source": [
        "## Конвертация\n",
        "#### Конвертация из Numpy в Pytorch:"
      ]
    },
    {
      "cell_type": "code",
      "metadata": {
        "id": "bnLS4CGXYKCL",
        "colab": {
          "base_uri": "https://localhost:8080/"
        },
        "outputId": "9bccdf1c-1bcd-4da0-fbc2-ca503f4dce00"
      },
      "source": [
        "import numpy as np\n",
        "\n",
        "a = np.random.rand(3, 3)\n",
        "a"
      ],
      "execution_count": null,
      "outputs": [
        {
          "output_type": "execute_result",
          "data": {
            "text/plain": [
              "array([[0.71500369, 0.44543165, 0.41301933],\n",
              "       [0.24002755, 0.54177066, 0.56103396],\n",
              "       [0.4781742 , 0.17984627, 0.63900449]])"
            ]
          },
          "metadata": {},
          "execution_count": 23
        }
      ]
    },
    {
      "cell_type": "code",
      "metadata": {
        "id": "PXge57waYKCM",
        "colab": {
          "base_uri": "https://localhost:8080/"
        },
        "outputId": "3974e659-d1a8-45dc-e280-8640887d5574"
      },
      "source": [
        "b = torch.from_numpy(a)\n",
        "b"
      ],
      "execution_count": null,
      "outputs": [
        {
          "output_type": "execute_result",
          "data": {
            "text/plain": [
              "tensor([[0.7150, 0.4454, 0.4130],\n",
              "        [0.2400, 0.5418, 0.5610],\n",
              "        [0.4782, 0.1798, 0.6390]], dtype=torch.float64)"
            ]
          },
          "metadata": {},
          "execution_count": 24
        }
      ]
    },
    {
      "cell_type": "markdown",
      "metadata": {
        "id": "Nvcr3ymPYKCN"
      },
      "source": [
        "**Внимание!** `a` и `b` хранятся в одной и той же ячейке данных. Если именить один тензор, то изменится и другой."
      ]
    },
    {
      "cell_type": "code",
      "metadata": {
        "id": "0N_ZW6TQYKCN",
        "colab": {
          "base_uri": "https://localhost:8080/"
        },
        "outputId": "d4efd93a-2d9e-450f-8712-2ca433b6a116"
      },
      "source": [
        "b -= b\n",
        "b"
      ],
      "execution_count": null,
      "outputs": [
        {
          "output_type": "execute_result",
          "data": {
            "text/plain": [
              "tensor([[0., 0., 0.],\n",
              "        [0., 0., 0.],\n",
              "        [0., 0., 0.]], dtype=torch.float64)"
            ]
          },
          "metadata": {},
          "execution_count": 25
        }
      ]
    },
    {
      "cell_type": "code",
      "metadata": {
        "id": "wzUnCKsiYKCP",
        "colab": {
          "base_uri": "https://localhost:8080/"
        },
        "outputId": "2a9527c4-4ad6-4f80-fe77-95a9bf7dc45c"
      },
      "source": [
        "a"
      ],
      "execution_count": null,
      "outputs": [
        {
          "output_type": "execute_result",
          "data": {
            "text/plain": [
              "array([[0., 0., 0.],\n",
              "       [0., 0., 0.],\n",
              "       [0., 0., 0.]])"
            ]
          },
          "metadata": {},
          "execution_count": 26
        }
      ]
    },
    {
      "cell_type": "markdown",
      "metadata": {
        "id": "Al73RqKSYKCR"
      },
      "source": [
        "#### Конвертация из Torch в Numpy"
      ]
    },
    {
      "cell_type": "code",
      "metadata": {
        "id": "u5rngw4vYKCR",
        "colab": {
          "base_uri": "https://localhost:8080/"
        },
        "outputId": "33489e04-6b3e-4b16-afb8-ead435fb179a"
      },
      "source": [
        "a = torch.FloatTensor(2, 3, 4)\n",
        "a"
      ],
      "execution_count": null,
      "outputs": [
        {
          "output_type": "execute_result",
          "data": {
            "text/plain": [
              "tensor([[[-7.8374e+10,  3.2821e-41, -7.9906e+10,  3.2821e-41],\n",
              "         [ 1.5695e-43,  0.0000e+00,  1.5695e-43,  0.0000e+00],\n",
              "         [ 2.9497e+23,  3.2817e-41,  0.0000e+00,  0.0000e+00]],\n",
              "\n",
              "        [[ 1.4013e-45,  0.0000e+00,  1.1351e-43,  0.0000e+00],\n",
              "         [-7.9779e+10,  3.2821e-41, -1.7964e-14,  4.5527e-41],\n",
              "         [ 9.1477e-41,  0.0000e+00,  1.2612e-44,  0.0000e+00]]])"
            ]
          },
          "metadata": {},
          "execution_count": 27
        }
      ]
    },
    {
      "cell_type": "code",
      "metadata": {
        "id": "yjK68Kk-YKCS",
        "colab": {
          "base_uri": "https://localhost:8080/"
        },
        "outputId": "be08b7dc-57f5-450e-97c2-08cf6392efc6"
      },
      "source": [
        "type(a)"
      ],
      "execution_count": null,
      "outputs": [
        {
          "output_type": "execute_result",
          "data": {
            "text/plain": [
              "torch.Tensor"
            ]
          },
          "metadata": {},
          "execution_count": 28
        }
      ]
    },
    {
      "cell_type": "code",
      "metadata": {
        "id": "viLUF7gQYKCU",
        "colab": {
          "base_uri": "https://localhost:8080/"
        },
        "outputId": "372cf23f-b709-4090-8467-637cffd14af4"
      },
      "source": [
        "x = a.numpy()\n",
        "x"
      ],
      "execution_count": null,
      "outputs": [
        {
          "output_type": "execute_result",
          "data": {
            "text/plain": [
              "array([[[-7.8374109e+10,  3.2821213e-41, -7.9905686e+10,  3.2821213e-41],\n",
              "        [ 1.5694543e-43,  0.0000000e+00,  1.5694543e-43,  0.0000000e+00],\n",
              "        [ 2.9497226e+23,  3.2817009e-41,  0.0000000e+00,  0.0000000e+00]],\n",
              "\n",
              "       [[ 1.4012985e-45,  0.0000000e+00,  1.1350518e-43,  0.0000000e+00],\n",
              "        [-7.9778939e+10,  3.2821213e-41, -1.7963549e-14,  4.5526786e-41],\n",
              "        [ 9.1476764e-41,  0.0000000e+00,  1.2611686e-44,  0.0000000e+00]]],\n",
              "      dtype=float32)"
            ]
          },
          "metadata": {},
          "execution_count": 29
        }
      ]
    },
    {
      "cell_type": "code",
      "metadata": {
        "id": "9HxgiLxKYKCV",
        "colab": {
          "base_uri": "https://localhost:8080/"
        },
        "outputId": "c084d0cf-59c5-45c2-a823-27cb469f6935"
      },
      "source": [
        "x.shape"
      ],
      "execution_count": null,
      "outputs": [
        {
          "output_type": "execute_result",
          "data": {
            "text/plain": [
              "(2, 3, 4)"
            ]
          },
          "metadata": {},
          "execution_count": 30
        }
      ]
    },
    {
      "cell_type": "code",
      "metadata": {
        "id": "SdW5bhmeYKCX",
        "colab": {
          "base_uri": "https://localhost:8080/"
        },
        "outputId": "93fdb9b7-f926-44a2-eed1-cdce0558fa5f"
      },
      "source": [
        "type(x)"
      ],
      "execution_count": null,
      "outputs": [
        {
          "output_type": "execute_result",
          "data": {
            "text/plain": [
              "numpy.ndarray"
            ]
          },
          "metadata": {},
          "execution_count": 31
        }
      ]
    },
    {
      "cell_type": "code",
      "metadata": {
        "id": "GbCc-vnWDj1l"
      },
      "source": [
        "x -= x"
      ],
      "execution_count": null,
      "outputs": []
    },
    {
      "cell_type": "code",
      "metadata": {
        "id": "Ui-4DptBDlet",
        "colab": {
          "base_uri": "https://localhost:8080/"
        },
        "outputId": "4daac603-29ca-4c36-d7f8-fab20867a9d4"
      },
      "source": [
        "a"
      ],
      "execution_count": null,
      "outputs": [
        {
          "output_type": "execute_result",
          "data": {
            "text/plain": [
              "tensor([[[0., 0., 0., 0.],\n",
              "         [0., 0., 0., 0.],\n",
              "         [0., 0., 0., 0.]],\n",
              "\n",
              "        [[0., 0., 0., 0.],\n",
              "         [0., 0., 0., 0.],\n",
              "         [0., 0., 0., 0.]]])"
            ]
          },
          "metadata": {},
          "execution_count": 33
        }
      ]
    },
    {
      "cell_type": "markdown",
      "metadata": {
        "id": "7-KS81rUYKCY"
      },
      "source": [
        "#### Задание. Реализация функции forward\n",
        "Реализуйте функцию `forward_pass(X, w)` для одного нейрона нейронной сети с активацией ``sigmoid``. Используйте библиотеку PyTorch"
      ]
    },
    {
      "cell_type": "markdown",
      "metadata": {
        "id": "C8dmwhWGxzwl"
      },
      "source": [
        "<img src='https://radioprog.ru/uploads/media/articles/0001/05/267ad35a9e64a7b92c2e3b94940f686816ea6bf8.jpeg'>"
      ]
    },
    {
      "cell_type": "code",
      "metadata": {
        "id": "vkaIwpn6YKCY"
      },
      "source": [
        "def forward_pass(X, w):\n",
        "\n",
        "  logits = X @ w\n",
        "  result  = torch.sigmoid(logits)\n",
        "\n",
        "  return result\n",
        "\n",
        "\n",
        "\n"
      ],
      "execution_count": null,
      "outputs": []
    },
    {
      "cell_type": "code",
      "metadata": {
        "id": "VyqlDItxYKCZ",
        "colab": {
          "base_uri": "https://localhost:8080/"
        },
        "outputId": "275582f2-3ec0-413c-9630-6db39810e131"
      },
      "source": [
        "X = torch.FloatTensor([[-5, 5], [2, 3], [1, -1]])\n",
        "print(X.shape)\n",
        "w = torch.FloatTensor([[-0.5], [2.5]])\n",
        "print(w.shape)\n",
        "result = forward_pass(X, w)\n",
        "print('result: {}'.format(result))"
      ],
      "execution_count": null,
      "outputs": [
        {
          "output_type": "stream",
          "name": "stdout",
          "text": [
            "torch.Size([3, 2])\n",
            "torch.Size([2, 1])\n",
            "result: tensor([[1.0000],\n",
            "        [0.9985],\n",
            "        [0.0474]])\n"
          ]
        }
      ]
    },
    {
      "cell_type": "markdown",
      "metadata": {
        "id": "MzLVLQ2GYKCa"
      },
      "source": [
        "## <h1 style=\"text-align: center;\"><a href=\"https://ru.wikipedia.org/wiki/CUDA\">CUDA</a></h3>\n",
        "\n",
        "CUDA --- это программно-аппаратная архитектура параллельных вычислений, которая позволяет существенно увеличить вычислительную производительность благодаря использованию графических процессоров фирмы Nvidia. Для нас CUDA --- это драйвер, который позволяет нам проводить вычисления на GPU."
      ]
    },
    {
      "cell_type": "markdown",
      "metadata": {
        "id": "PrIicAAiYKCa"
      },
      "source": [
        "[CUDA documentation](https://docs.nvidia.com/cuda/)"
      ]
    },
    {
      "cell_type": "markdown",
      "metadata": {
        "id": "2nDkAG6NYKCa"
      },
      "source": [
        "Для вычислений на Pytorch мы можем использовать как CPU (Central Processing Unit), так и GPU (Graphical Processing Unit). Между ними можно легко переключаться, и это очень важно!"
      ]
    },
    {
      "cell_type": "code",
      "metadata": {
        "id": "_0Nsl2IoYKCa",
        "colab": {
          "base_uri": "https://localhost:8080/"
        },
        "outputId": "0d2452d8-7732-4d35-aa36-4cb6baae0fe8"
      },
      "source": [
        "x = torch.FloatTensor(1024, 10024).uniform_()\n",
        "x"
      ],
      "execution_count": null,
      "outputs": [
        {
          "output_type": "execute_result",
          "data": {
            "text/plain": [
              "tensor([[0.5557, 0.4454, 0.2502,  ..., 0.6089, 0.4101, 0.6552],\n",
              "        [0.5634, 0.2125, 0.5050,  ..., 0.3467, 0.3081, 0.1257],\n",
              "        [0.3616, 0.4647, 0.4407,  ..., 0.0592, 0.5352, 0.9743],\n",
              "        ...,\n",
              "        [0.0360, 0.6455, 0.0065,  ..., 0.6476, 0.3726, 0.8238],\n",
              "        [0.7268, 0.3583, 0.3650,  ..., 0.3976, 0.3624, 0.2694],\n",
              "        [0.3985, 0.6421, 0.3365,  ..., 0.5666, 0.0159, 0.6623]])"
            ]
          },
          "metadata": {},
          "execution_count": 42
        }
      ]
    },
    {
      "cell_type": "code",
      "metadata": {
        "id": "FVr5_SAdYKCb",
        "colab": {
          "base_uri": "https://localhost:8080/"
        },
        "outputId": "5343d90d-4f32-46b2-dfb7-d985bca7b3cd"
      },
      "source": [
        "x.is_cuda"
      ],
      "execution_count": null,
      "outputs": [
        {
          "output_type": "execute_result",
          "data": {
            "text/plain": [
              "False"
            ]
          },
          "metadata": {},
          "execution_count": 43
        }
      ]
    },
    {
      "cell_type": "markdown",
      "metadata": {
        "id": "mAy8GGXAYKCd"
      },
      "source": [
        "#### Кладём тензор на GPU"
      ]
    },
    {
      "cell_type": "code",
      "metadata": {
        "id": "Pofrx0jug6QM",
        "colab": {
          "base_uri": "https://localhost:8080/"
        },
        "outputId": "f2666371-6475-4d96-a97a-99a8aea1f72d"
      },
      "source": [
        "!nvidia-smi"
      ],
      "execution_count": null,
      "outputs": [
        {
          "output_type": "stream",
          "name": "stdout",
          "text": [
            "Sun Dec 17 11:37:36 2023       \n",
            "+---------------------------------------------------------------------------------------+\n",
            "| NVIDIA-SMI 535.104.05             Driver Version: 535.104.05   CUDA Version: 12.2     |\n",
            "|-----------------------------------------+----------------------+----------------------+\n",
            "| GPU  Name                 Persistence-M | Bus-Id        Disp.A | Volatile Uncorr. ECC |\n",
            "| Fan  Temp   Perf          Pwr:Usage/Cap |         Memory-Usage | GPU-Util  Compute M. |\n",
            "|                                         |                      |               MIG M. |\n",
            "|=========================================+======================+======================|\n",
            "|   0  Tesla T4                       Off | 00000000:00:04.0 Off |                    0 |\n",
            "| N/A   40C    P8               9W /  70W |      0MiB / 15360MiB |      0%      Default |\n",
            "|                                         |                      |                  N/A |\n",
            "+-----------------------------------------+----------------------+----------------------+\n",
            "                                                                                         \n",
            "+---------------------------------------------------------------------------------------+\n",
            "| Processes:                                                                            |\n",
            "|  GPU   GI   CI        PID   Type   Process name                            GPU Memory |\n",
            "|        ID   ID                                                             Usage      |\n",
            "|=======================================================================================|\n",
            "|  No running processes found                                                           |\n",
            "+---------------------------------------------------------------------------------------+\n"
          ]
        }
      ]
    },
    {
      "cell_type": "code",
      "metadata": {
        "id": "6UGKZbfyYKCd"
      },
      "source": [
        "x = x.cuda()"
      ],
      "execution_count": null,
      "outputs": []
    },
    {
      "cell_type": "code",
      "metadata": {
        "id": "RwvXhDD2gezR",
        "colab": {
          "base_uri": "https://localhost:8080/"
        },
        "outputId": "0c48094f-4622-439f-d65c-c0ba8a39b6c5"
      },
      "source": [
        "!nvidia-smi"
      ],
      "execution_count": null,
      "outputs": [
        {
          "output_type": "stream",
          "name": "stdout",
          "text": [
            "Sun Dec 17 11:38:01 2023       \n",
            "+---------------------------------------------------------------------------------------+\n",
            "| NVIDIA-SMI 535.104.05             Driver Version: 535.104.05   CUDA Version: 12.2     |\n",
            "|-----------------------------------------+----------------------+----------------------+\n",
            "| GPU  Name                 Persistence-M | Bus-Id        Disp.A | Volatile Uncorr. ECC |\n",
            "| Fan  Temp   Perf          Pwr:Usage/Cap |         Memory-Usage | GPU-Util  Compute M. |\n",
            "|                                         |                      |               MIG M. |\n",
            "|=========================================+======================+======================|\n",
            "|   0  Tesla T4                       Off | 00000000:00:04.0 Off |                    0 |\n",
            "| N/A   43C    P0              26W /  70W |    143MiB / 15360MiB |      0%      Default |\n",
            "|                                         |                      |                  N/A |\n",
            "+-----------------------------------------+----------------------+----------------------+\n",
            "                                                                                         \n",
            "+---------------------------------------------------------------------------------------+\n",
            "| Processes:                                                                            |\n",
            "|  GPU   GI   CI        PID   Type   Process name                            GPU Memory |\n",
            "|        ID   ID                                                             Usage      |\n",
            "|=======================================================================================|\n",
            "+---------------------------------------------------------------------------------------+\n"
          ]
        }
      ]
    },
    {
      "cell_type": "code",
      "metadata": {
        "id": "hyhJsU5ib591",
        "colab": {
          "base_uri": "https://localhost:8080/"
        },
        "outputId": "daf10718-8840-4b6e-c562-34e75639c6c2"
      },
      "source": [
        "x"
      ],
      "execution_count": null,
      "outputs": [
        {
          "output_type": "execute_result",
          "data": {
            "text/plain": [
              "tensor([[0.5557, 0.4454, 0.2502,  ..., 0.6089, 0.4101, 0.6552],\n",
              "        [0.5634, 0.2125, 0.5050,  ..., 0.3467, 0.3081, 0.1257],\n",
              "        [0.3616, 0.4647, 0.4407,  ..., 0.0592, 0.5352, 0.9743],\n",
              "        ...,\n",
              "        [0.0360, 0.6455, 0.0065,  ..., 0.6476, 0.3726, 0.8238],\n",
              "        [0.7268, 0.3583, 0.3650,  ..., 0.3976, 0.3624, 0.2694],\n",
              "        [0.3985, 0.6421, 0.3365,  ..., 0.5666, 0.0159, 0.6623]],\n",
              "       device='cuda:0')"
            ]
          },
          "metadata": {},
          "execution_count": 48
        }
      ]
    },
    {
      "cell_type": "code",
      "metadata": {
        "id": "ue2SLd9nYKCd",
        "colab": {
          "base_uri": "https://localhost:8080/"
        },
        "outputId": "b86d5a76-b822-4aca-ba77-f4073a485d86"
      },
      "source": [
        "x = x.cpu()\n",
        "!nvidia-smi\n",
        "#чистим закэшированную память\n",
        "torch.cuda.empty_cache()\n",
        "!nvidia-smi"
      ],
      "execution_count": null,
      "outputs": [
        {
          "output_type": "stream",
          "name": "stdout",
          "text": [
            "Sun Dec 17 11:39:11 2023       \n",
            "+---------------------------------------------------------------------------------------+\n",
            "| NVIDIA-SMI 535.104.05             Driver Version: 535.104.05   CUDA Version: 12.2     |\n",
            "|-----------------------------------------+----------------------+----------------------+\n",
            "| GPU  Name                 Persistence-M | Bus-Id        Disp.A | Volatile Uncorr. ECC |\n",
            "| Fan  Temp   Perf          Pwr:Usage/Cap |         Memory-Usage | GPU-Util  Compute M. |\n",
            "|                                         |                      |               MIG M. |\n",
            "|=========================================+======================+======================|\n",
            "|   0  Tesla T4                       Off | 00000000:00:04.0 Off |                    0 |\n",
            "| N/A   51C    P0              26W /  70W |    161MiB / 15360MiB |      0%      Default |\n",
            "|                                         |                      |                  N/A |\n",
            "+-----------------------------------------+----------------------+----------------------+\n",
            "                                                                                         \n",
            "+---------------------------------------------------------------------------------------+\n",
            "| Processes:                                                                            |\n",
            "|  GPU   GI   CI        PID   Type   Process name                            GPU Memory |\n",
            "|        ID   ID                                                             Usage      |\n",
            "|=======================================================================================|\n",
            "+---------------------------------------------------------------------------------------+\n",
            "Sun Dec 17 11:39:11 2023       \n",
            "+---------------------------------------------------------------------------------------+\n",
            "| NVIDIA-SMI 535.104.05             Driver Version: 535.104.05   CUDA Version: 12.2     |\n",
            "|-----------------------------------------+----------------------+----------------------+\n",
            "| GPU  Name                 Persistence-M | Bus-Id        Disp.A | Volatile Uncorr. ECC |\n",
            "| Fan  Temp   Perf          Pwr:Usage/Cap |         Memory-Usage | GPU-Util  Compute M. |\n",
            "|                                         |                      |               MIG M. |\n",
            "|=========================================+======================+======================|\n",
            "|   0  Tesla T4                       Off | 00000000:00:04.0 Off |                    0 |\n",
            "| N/A   50C    P0              26W /  70W |    159MiB / 15360MiB |      0%      Default |\n",
            "|                                         |                      |                  N/A |\n",
            "+-----------------------------------------+----------------------+----------------------+\n",
            "                                                                                         \n",
            "+---------------------------------------------------------------------------------------+\n",
            "| Processes:                                                                            |\n",
            "|  GPU   GI   CI        PID   Type   Process name                            GPU Memory |\n",
            "|        ID   ID                                                             Usage      |\n",
            "|=======================================================================================|\n",
            "+---------------------------------------------------------------------------------------+\n"
          ]
        }
      ]
    },
    {
      "cell_type": "code",
      "metadata": {
        "id": "qVVp6BnbD7fy",
        "colab": {
          "base_uri": "https://localhost:8080/"
        },
        "outputId": "5ad5ce04-0688-48bd-dbc8-8ef36c40932b"
      },
      "source": [
        "device = torch.device(\"cuda:0\") if torch.cuda.is_available() else torch.device(\"cpu\")\n",
        "\n",
        "x = x.to(device)\n",
        "x"
      ],
      "execution_count": null,
      "outputs": [
        {
          "output_type": "execute_result",
          "data": {
            "text/plain": [
              "tensor([[0.5557, 0.4454, 0.2502,  ..., 0.6089, 0.4101, 0.6552],\n",
              "        [0.5634, 0.2125, 0.5050,  ..., 0.3467, 0.3081, 0.1257],\n",
              "        [0.3616, 0.4647, 0.4407,  ..., 0.0592, 0.5352, 0.9743],\n",
              "        ...,\n",
              "        [0.0360, 0.6455, 0.0065,  ..., 0.6476, 0.3726, 0.8238],\n",
              "        [0.7268, 0.3583, 0.3650,  ..., 0.3976, 0.3624, 0.2694],\n",
              "        [0.3985, 0.6421, 0.3365,  ..., 0.5666, 0.0159, 0.6623]],\n",
              "       device='cuda:0')"
            ]
          },
          "metadata": {},
          "execution_count": 49
        }
      ]
    },
    {
      "cell_type": "markdown",
      "metadata": {
        "id": "dI73B59PYKCg"
      },
      "source": [
        "Умножим два тензора в GPU и вернём результат обратно на CPU:"
      ]
    },
    {
      "cell_type": "code",
      "metadata": {
        "id": "KS4QxJJoYKCg"
      },
      "source": [
        "a = torch.FloatTensor(10000, 10000).uniform_()\n",
        "b = torch.FloatTensor(10000, 10000).uniform_()\n",
        "c = a.cuda().mul(b.cuda()).cpu()"
      ],
      "execution_count": null,
      "outputs": []
    },
    {
      "cell_type": "code",
      "metadata": {
        "id": "1ImlgEbwYKCg",
        "colab": {
          "base_uri": "https://localhost:8080/"
        },
        "outputId": "bdb52aba-5405-4412-8147-59d51077a10c"
      },
      "source": [
        "c"
      ],
      "execution_count": null,
      "outputs": [
        {
          "output_type": "execute_result",
          "data": {
            "text/plain": [
              "tensor([[0.0361, 0.4525, 0.1111,  ..., 0.0633, 0.5909, 0.6798],\n",
              "        [0.1398, 0.1562, 0.0834,  ..., 0.6142, 0.5969, 0.2445],\n",
              "        [0.5253, 0.0014, 0.1443,  ..., 0.0962, 0.5199, 0.2055],\n",
              "        ...,\n",
              "        [0.0325, 0.2806, 0.0253,  ..., 0.0281, 0.2660, 0.0160],\n",
              "        [0.0249, 0.1694, 0.2654,  ..., 0.5091, 0.1554, 0.1225],\n",
              "        [0.0992, 0.0710, 0.1726,  ..., 0.2013, 0.0537, 0.9034]])"
            ]
          },
          "metadata": {},
          "execution_count": 53
        }
      ]
    },
    {
      "cell_type": "code",
      "metadata": {
        "id": "4DAN9MhDYKCh",
        "colab": {
          "base_uri": "https://localhost:8080/"
        },
        "outputId": "0ba2ab82-f5aa-4465-ec3e-370e38f46fd6"
      },
      "source": [
        "a"
      ],
      "execution_count": null,
      "outputs": [
        {
          "output_type": "execute_result",
          "data": {
            "text/plain": [
              "tensor([[0.1371, 0.9575, 0.1806,  ..., 0.5145, 0.8486, 0.9676],\n",
              "        [0.6144, 0.2064, 0.1439,  ..., 0.7676, 0.9513, 0.3490],\n",
              "        [0.8517, 0.3418, 0.8718,  ..., 0.3845, 0.7727, 0.4218],\n",
              "        ...,\n",
              "        [0.0643, 0.4137, 0.2496,  ..., 0.5321, 0.3891, 0.1003],\n",
              "        [0.2653, 0.6711, 0.7385,  ..., 0.7033, 0.1938, 0.2656],\n",
              "        [0.4391, 0.2484, 0.1884,  ..., 0.5929, 0.1575, 0.9484]])"
            ]
          },
          "metadata": {},
          "execution_count": 54
        }
      ]
    },
    {
      "cell_type": "markdown",
      "metadata": {
        "id": "xWc-PiA9YKCi"
      },
      "source": [
        "Тензоры из разных областей памяти не совместимы:"
      ]
    },
    {
      "cell_type": "code",
      "metadata": {
        "id": "1lwV1sgSYKCi"
      },
      "source": [
        "a = torch.FloatTensor(10000, 10000).uniform_().cpu()\n",
        "b = torch.FloatTensor(10000, 10000).uniform_().cuda()"
      ],
      "execution_count": null,
      "outputs": []
    },
    {
      "cell_type": "code",
      "metadata": {
        "id": "G6tYdYtTYKCj",
        "colab": {
          "base_uri": "https://localhost:8080/",
          "height": 176
        },
        "outputId": "448b1020-6331-4c9a-8af6-8d9767f8036b"
      },
      "source": [
        "a + b"
      ],
      "execution_count": null,
      "outputs": [
        {
          "output_type": "error",
          "ename": "RuntimeError",
          "evalue": "ignored",
          "traceback": [
            "\u001b[0;31m---------------------------------------------------------------------------\u001b[0m",
            "\u001b[0;31mRuntimeError\u001b[0m                              Traceback (most recent call last)",
            "\u001b[0;32m<ipython-input-57-bd58363a63fc>\u001b[0m in \u001b[0;36m<cell line: 1>\u001b[0;34m()\u001b[0m\n\u001b[0;32m----> 1\u001b[0;31m \u001b[0ma\u001b[0m \u001b[0;34m+\u001b[0m \u001b[0mb\u001b[0m\u001b[0;34m\u001b[0m\u001b[0;34m\u001b[0m\u001b[0m\n\u001b[0m",
            "\u001b[0;31mRuntimeError\u001b[0m: Expected all tensors to be on the same device, but found at least two devices, cuda:0 and cpu!"
          ]
        }
      ]
    },
    {
      "cell_type": "markdown",
      "metadata": {
        "id": "QEtwaIxDYKCk"
      },
      "source": [
        "### Пример работы на GPU"
      ]
    },
    {
      "cell_type": "code",
      "metadata": {
        "id": "PRmnPD5EcpcF"
      },
      "source": [
        "device = 'cuda' if torch.cuda.is_available() else 'cpu'"
      ],
      "execution_count": null,
      "outputs": []
    },
    {
      "cell_type": "code",
      "metadata": {
        "id": "bJgVfAbUYKCk",
        "scrolled": true,
        "colab": {
          "base_uri": "https://localhost:8080/"
        },
        "outputId": "58e5b11e-2200-4824-c4bc-882b82dd7f2b"
      },
      "source": [
        "x = torch.FloatTensor(5, 5, 5).uniform_()\n",
        "\n",
        "# проверить наличие CUDA (NVIDIA GPU)\n",
        "if torch.cuda.is_available():\n",
        "    # получить имя устройства CUDA\n",
        "    device = torch.device('cuda')          # Объект CUDA-устройства\n",
        "    y = torch.ones_like(x, device=device)  # создаем тензор на GPU\n",
        "    x = x.to(device)                       # или просто `.to(\"cuda\")`\n",
        "    z = x + y\n",
        "    print(z)\n",
        "    # вы можете установить тип во время операции `.to`\n",
        "    print(z.to(\"cpu\", torch.double))"
      ],
      "execution_count": null,
      "outputs": [
        {
          "output_type": "stream",
          "name": "stdout",
          "text": [
            "tensor([[[1.2095, 1.5349, 1.4351, 1.0271, 1.9063],\n",
            "         [1.6754, 1.4594, 1.6215, 1.8559, 1.6426],\n",
            "         [1.0315, 1.8821, 1.4221, 1.1560, 1.4967],\n",
            "         [1.6708, 1.7560, 1.2920, 1.5152, 1.2258],\n",
            "         [1.7521, 1.1430, 1.8790, 1.0146, 1.8058]],\n",
            "\n",
            "        [[1.7918, 1.6985, 1.6999, 1.8369, 1.9528],\n",
            "         [1.8565, 1.0212, 1.0851, 1.5287, 1.1458],\n",
            "         [1.9273, 1.4065, 1.6097, 1.0726, 1.9345],\n",
            "         [1.3867, 1.0783, 1.6582, 1.6952, 1.3501],\n",
            "         [1.7560, 1.5558, 1.8672, 1.3242, 1.0106]],\n",
            "\n",
            "        [[1.7969, 1.2283, 1.9361, 1.6299, 1.4820],\n",
            "         [1.2261, 1.3394, 1.9113, 1.3896, 1.4789],\n",
            "         [1.7766, 1.8469, 1.9170, 1.0971, 1.0962],\n",
            "         [1.2479, 1.3618, 1.9698, 1.0792, 1.5758],\n",
            "         [1.7925, 1.1136, 1.3400, 1.2973, 1.8400]],\n",
            "\n",
            "        [[1.4322, 1.2673, 1.0635, 1.8817, 1.2314],\n",
            "         [1.0866, 1.6280, 1.4023, 1.3885, 1.1335],\n",
            "         [1.8644, 1.8230, 1.7588, 1.5390, 1.6728],\n",
            "         [1.1869, 1.0490, 1.0507, 1.2912, 1.5921],\n",
            "         [1.5705, 1.6668, 1.2411, 1.3227, 1.3885]],\n",
            "\n",
            "        [[1.2578, 1.7625, 1.3973, 1.7539, 1.4826],\n",
            "         [1.3353, 1.0080, 1.5759, 1.4113, 1.5624],\n",
            "         [1.2952, 1.5133, 1.0683, 1.2280, 1.5713],\n",
            "         [1.6071, 1.8373, 1.9486, 1.9036, 1.6214],\n",
            "         [1.4145, 1.3023, 1.0331, 1.6811, 1.7555]]], device='cuda:0')\n",
            "tensor([[[1.2095, 1.5349, 1.4351, 1.0271, 1.9063],\n",
            "         [1.6754, 1.4594, 1.6215, 1.8559, 1.6426],\n",
            "         [1.0315, 1.8821, 1.4221, 1.1560, 1.4967],\n",
            "         [1.6708, 1.7560, 1.2920, 1.5152, 1.2258],\n",
            "         [1.7521, 1.1430, 1.8790, 1.0146, 1.8058]],\n",
            "\n",
            "        [[1.7918, 1.6985, 1.6999, 1.8369, 1.9528],\n",
            "         [1.8565, 1.0212, 1.0851, 1.5287, 1.1458],\n",
            "         [1.9273, 1.4065, 1.6097, 1.0726, 1.9345],\n",
            "         [1.3867, 1.0783, 1.6582, 1.6952, 1.3501],\n",
            "         [1.7560, 1.5558, 1.8672, 1.3242, 1.0106]],\n",
            "\n",
            "        [[1.7969, 1.2283, 1.9361, 1.6299, 1.4820],\n",
            "         [1.2261, 1.3394, 1.9113, 1.3896, 1.4789],\n",
            "         [1.7766, 1.8469, 1.9170, 1.0971, 1.0962],\n",
            "         [1.2479, 1.3618, 1.9698, 1.0792, 1.5758],\n",
            "         [1.7925, 1.1136, 1.3400, 1.2973, 1.8400]],\n",
            "\n",
            "        [[1.4322, 1.2673, 1.0635, 1.8817, 1.2314],\n",
            "         [1.0866, 1.6280, 1.4023, 1.3885, 1.1335],\n",
            "         [1.8644, 1.8230, 1.7588, 1.5390, 1.6728],\n",
            "         [1.1869, 1.0490, 1.0507, 1.2912, 1.5921],\n",
            "         [1.5705, 1.6668, 1.2411, 1.3227, 1.3885]],\n",
            "\n",
            "        [[1.2578, 1.7625, 1.3973, 1.7539, 1.4826],\n",
            "         [1.3353, 1.0080, 1.5759, 1.4113, 1.5624],\n",
            "         [1.2952, 1.5133, 1.0683, 1.2280, 1.5713],\n",
            "         [1.6071, 1.8373, 1.9486, 1.9036, 1.6214],\n",
            "         [1.4145, 1.3023, 1.0331, 1.6811, 1.7555]]], dtype=torch.float64)\n"
          ]
        }
      ]
    },
    {
      "cell_type": "markdown",
      "metadata": {
        "id": "iFg82MJIYKCl"
      },
      "source": [
        "## AutoGrad\n",
        "\n",
        "За что мы любим PyTorch --- за то, что в нём можно автоматически дифференцировать функции! Об этом можно было бы только мечтать в Numpy. Дифференцирование функций происходит по формуле производной композиции."
      ]
    },
    {
      "cell_type": "markdown",
      "metadata": {
        "id": "63BaBsy4iuwl"
      },
      "source": [
        "**Правило производной композиции (a.k.a. backpropagation)**\n",
        "\n",
        "Пусть есть функция $f(w(\\theta))$. Вычислим её производную:\n",
        "$${\\frac  {\\partial{f}}{\\partial{\\theta}}}\n",
        "={\\frac  {\\partial{f}}{\\partial{w}}}\\cdot {\\frac  {\\partial{w}}{\\partial{\\theta}}}$$\n",
        "\n",
        "\n",
        "*Как рассказывалось на лекции, в многомерном случае можно записать аналог этой формулы:*\n",
        "$$\n",
        "D_\\theta(f\\circ w) = D_{w(\\theta)}(f)\\circ D_\\theta(w)\n",
        "$$\n",
        "\n",
        "Простой пример обратного распространения градиента:\n",
        "\n",
        "$$y = \\sin \\left(x_2^2(x_1 + x_2)\\right)$$\n",
        "\n",
        "<img src=\"https://ars.els-cdn.com/content/image/1-s2.0-S0010465515004099-gr1.jpg\" width=700></img>\n"
      ]
    },
    {
      "cell_type": "markdown",
      "metadata": {
        "id": "udpOWYK-YKCm"
      },
      "source": [
        "Autograd позволяет производить автоматическое дифференцирование для всех операций на тензорах. Граф вычислений, в отличие от Tensorflow, строится динамически. Давайте посмотрим, как это работает."
      ]
    },
    {
      "cell_type": "markdown",
      "metadata": {
        "id": "AEDz971fYKCn"
      },
      "source": [
        "#### Задание. Реализуйте обучение в логистической регрессии"
      ]
    },
    {
      "cell_type": "code",
      "metadata": {
        "id": "bpie5O9zh0Ar"
      },
      "source": [
        "# Разберем пример: применим линейную регрессию цен на жилье в Бостоне.\n",
        "# этот датасет удалён, поработаем с предсказанием прогрессирования диабета"
      ],
      "execution_count": null,
      "outputs": []
    },
    {
      "cell_type": "code",
      "metadata": {
        "id": "Z3IzUjAxh0Oy",
        "colab": {
          "base_uri": "https://localhost:8080/",
          "height": 447
        },
        "outputId": "b8475a83-4962-498d-c386-bce659f7ddb2"
      },
      "source": [
        "import matplotlib.pyplot as plt\n",
        "import torch\n",
        "%matplotlib inline\n",
        "\n",
        "from sklearn.datasets import load_diabetes\n",
        "diabetes = load_diabetes()\n",
        "plt.scatter(diabetes.data[:, -1], diabetes.target)"
      ],
      "execution_count": null,
      "outputs": [
        {
          "output_type": "execute_result",
          "data": {
            "text/plain": [
              "<matplotlib.collections.PathCollection at 0x7ee872cdf1f0>"
            ]
          },
          "metadata": {},
          "execution_count": 69
        },
        {
          "output_type": "display_data",
          "data": {
            "text/plain": [
              "<Figure size 640x480 with 1 Axes>"
            ],
            "image/png": "[encoded data removed]"
          },
          "metadata": {}
        }
      ]
    },
    {
      "cell_type": "code",
      "source": [
        "import pandas as pd\n",
        "\n",
        "diabetes_df = pd.DataFrame(data = diabetes.data,\n",
        "                           columns = diabetes.feature_names)\n",
        "diabetes_df['target'] = diabetes.target\n",
        "diabetes_df.head()"
      ],
      "metadata": {
        "id": "sr6kGSyHoTqu",
        "outputId": "5f17073c-707c-4b52-8a61-f144e77aeece",
        "colab": {
          "base_uri": "https://localhost:8080/",
          "height": 206
        }
      },
      "execution_count": null,
      "outputs": [
        {
          "output_type": "execute_result",
          "data": {
            "text/plain": [
              "        age       sex       bmi        bp        s1        s2        s3  \\\n",
              "0  0.038076  0.050680  0.061696  0.021872 -0.044223 -0.034821 -0.043401   \n",
              "1 -0.001882 -0.044642 -0.051474 -0.026328 -0.008449 -0.019163  0.074412   \n",
              "2  0.085299  0.050680  0.044451 -0.005670 -0.045599 -0.034194 -0.032356   \n",
              "3 -0.089063 -0.044642 -0.011595 -0.036656  0.012191  0.024991 -0.036038   \n",
              "4  0.005383 -0.044642 -0.036385  0.021872  0.003935  0.015596  0.008142   \n",
              "\n",
              "         s4        s5        s6  target  \n",
              "0 -0.002592  0.019907 -0.017646   151.0  \n",
              "1 -0.039493 -0.068332 -0.092204    75.0  \n",
              "2 -0.002592  0.002861 -0.025930   141.0  \n",
              "3  0.034309  0.022688 -0.009362   206.0  \n",
              "4 -0.002592 -0.031988 -0.046641   135.0  "
            ],
            "text/html": [
              "\n",
              "  <div id=\"df-3212cf2c-a183-4bb9-8b3e-30f1aa930284\" class=\"colab-df-container\">\n",
              "    <div>\n",
              "<style scoped>\n",
              "    .dataframe tbody tr th:only-of-type {\n",
              "        vertical-align: middle;\n",
              "    }\n",
              "\n",
              "    .dataframe tbody tr th {\n",
              "        vertical-align: top;\n",
              "    }\n",
              "\n",
              "    .dataframe thead th {\n",
              "        text-align: right;\n",
              "    }\n",
              "</style>\n",
              "<table border=\"1\" class=\"dataframe\">\n",
              "  <thead>\n",
              "    <tr style=\"text-align: right;\">\n",
              "      <th></th>\n",
              "      <th>age</th>\n",
              "      <th>sex</th>\n",
              "      <th>bmi</th>\n",
              "      <th>bp</th>\n",
              "      <th>s1</th>\n",
              "      <th>s2</th>\n",
              "      <th>s3</th>\n",
              "      <th>s4</th>\n",
              "      <th>s5</th>\n",
              "      <th>s6</th>\n",
              "      <th>target</th>\n",
              "    </tr>\n",
              "  </thead>\n",
              "  <tbody>\n",
              "    <tr>\n",
              "      <th>0</th>\n",
              "      <td>0.038076</td>\n",
              "      <td>0.050680</td>\n",
              "      <td>0.061696</td>\n",
              "      <td>0.021872</td>\n",
              "      <td>-0.044223</td>\n",
              "      <td>-0.034821</td>\n",
              "      <td>-0.043401</td>\n",
              "      <td>-0.002592</td>\n",
              "      <td>0.019907</td>\n",
              "      <td>-0.017646</td>\n",
              "      <td>151.0</td>\n",
              "    </tr>\n",
              "    <tr>\n",
              "      <th>1</th>\n",
              "      <td>-0.001882</td>\n",
              "      <td>-0.044642</td>\n",
              "      <td>-0.051474</td>\n",
              "      <td>-0.026328</td>\n",
              "      <td>-0.008449</td>\n",
              "      <td>-0.019163</td>\n",
              "      <td>0.074412</td>\n",
              "      <td>-0.039493</td>\n",
              "      <td>-0.068332</td>\n",
              "      <td>-0.092204</td>\n",
              "      <td>75.0</td>\n",
              "    </tr>\n",
              "    <tr>\n",
              "      <th>2</th>\n",
              "      <td>0.085299</td>\n",
              "      <td>0.050680</td>\n",
              "      <td>0.044451</td>\n",
              "      <td>-0.005670</td>\n",
              "      <td>-0.045599</td>\n",
              "      <td>-0.034194</td>\n",
              "      <td>-0.032356</td>\n",
              "      <td>-0.002592</td>\n",
              "      <td>0.002861</td>\n",
              "      <td>-0.025930</td>\n",
              "      <td>141.0</td>\n",
              "    </tr>\n",
              "    <tr>\n",
              "      <th>3</th>\n",
              "      <td>-0.089063</td>\n",
              "      <td>-0.044642</td>\n",
              "      <td>-0.011595</td>\n",
              "      <td>-0.036656</td>\n",
              "      <td>0.012191</td>\n",
              "      <td>0.024991</td>\n",
              "      <td>-0.036038</td>\n",
              "      <td>0.034309</td>\n",
              "      <td>0.022688</td>\n",
              "      <td>-0.009362</td>\n",
              "      <td>206.0</td>\n",
              "    </tr>\n",
              "    <tr>\n",
              "      <th>4</th>\n",
              "      <td>0.005383</td>\n",
              "      <td>-0.044642</td>\n",
              "      <td>-0.036385</td>\n",
              "      <td>0.021872</td>\n",
              "      <td>0.003935</td>\n",
              "      <td>0.015596</td>\n",
              "      <td>0.008142</td>\n",
              "      <td>-0.002592</td>\n",
              "      <td>-0.031988</td>\n",
              "      <td>-0.046641</td>\n",
              "      <td>135.0</td>\n",
              "    </tr>\n",
              "  </tbody>\n",
              "</table>\n",
              "</div>\n",
              "    <div class=\"colab-df-buttons\">\n",
              "\n",
              "  <div class=\"colab-df-container\">\n",
              "    <button class=\"colab-df-convert\" onclick=\"convertToInteractive('df-3212cf2c-a183-4bb9-8b3e-30f1aa930284')\"\n",
              "            title=\"Convert this dataframe to an interactive table.\"\n",
              "            style=\"display:none;\">\n",
              "\n",
              "  <svg xmlns=\"http://www.w3.org/2000/svg\" height=\"24px\" viewBox=\"0 -960 960 960\">\n",
              "    <path d=\"M120-120v-720h720v720H120Zm60-500h600v-160H180v160Zm220 220h160v-160H400v160Zm0 220h160v-160H400v160ZM180-400h160v-160H180v160Zm440 0h160v-160H620v160ZM180-180h160v-160H180v160Zm440 0h160v-160H620v160Z\"/>\n",
              "  </svg>\n",
              "    </button>\n",
              "\n",
              "  <style>\n",
              "    .colab-df-container {\n",
              "      display:flex;\n",
              "      gap: 12px;\n",
              "    }\n",
              "\n",
              "    .colab-df-convert {\n",
              "      background-color: #E8F0FE;\n",
              "      border: none;\n",
              "      border-radius: 50%;\n",
              "      cursor: pointer;\n",
              "      display: none;\n",
              "      fill: #1967D2;\n",
              "      height: 32px;\n",
              "      padding: 0 0 0 0;\n",
              "      width: 32px;\n",
              "    }\n",
              "\n",
              "    .colab-df-convert:hover {\n",
              "      background-color: #E2EBFA;\n",
              "      box-shadow: 0px 1px 2px rgba(60, 64, 67, 0.3), 0px 1px 3px 1px rgba(60, 64, 67, 0.15);\n",
              "      fill: #174EA6;\n",
              "    }\n",
              "\n",
              "    .colab-df-buttons div {\n",
              "      margin-bottom: 4px;\n",
              "    }\n",
              "\n",
              "    [theme=dark] .colab-df-convert {\n",
              "      background-color: #3B4455;\n",
              "      fill: #D2E3FC;\n",
              "    }\n",
              "\n",
              "    [theme=dark] .colab-df-convert:hover {\n",
              "      background-color: #434B5C;\n",
              "      box-shadow: 0px 1px 3px 1px rgba(0, 0, 0, 0.15);\n",
              "      filter: drop-shadow(0px 1px 2px rgba(0, 0, 0, 0.3));\n",
              "      fill: #FFFFFF;\n",
              "    }\n",
              "  </style>\n",
              "\n",
              "    <script>\n",
              "      const buttonEl =\n",
              "        document.querySelector('#df-3212cf2c-a183-4bb9-8b3e-30f1aa930284 button.colab-df-convert');\n",
              "      buttonEl.style.display =\n",
              "        google.colab.kernel.accessAllowed ? 'block' : 'none';\n",
              "\n",
              "      async function convertToInteractive(key) {\n",
              "        const element = document.querySelector('#df-3212cf2c-a183-4bb9-8b3e-30f1aa930284');\n",
              "        const dataTable =\n",
              "          await google.colab.kernel.invokeFunction('convertToInteractive',\n",
              "                                                    [key], {});\n",
              "        if (!dataTable) return;\n",
              "\n",
              "        const docLinkHtml = 'Like what you see? Visit the ' +\n",
              "          '<a target=\"_blank\" href=https://colab.research.google.com/notebooks/data_table.ipynb>data table notebook</a>'\n",
              "          + ' to learn more about interactive tables.';\n",
              "        element.innerHTML = '';\n",
              "        dataTable['output_type'] = 'display_data';\n",
              "        await google.colab.output.renderOutput(dataTable, element);\n",
              "        const docLink = document.createElement('div');\n",
              "        docLink.innerHTML = docLinkHtml;\n",
              "        element.appendChild(docLink);\n",
              "      }\n",
              "    </script>\n",
              "  </div>\n",
              "\n",
              "\n",
              "<div id=\"df-ecc1c190-f9a0-42e7-9013-46b3fa892ad3\">\n",
              "  <button class=\"colab-df-quickchart\" onclick=\"quickchart('df-ecc1c190-f9a0-42e7-9013-46b3fa892ad3')\"\n",
              "            title=\"Suggest charts\"\n",
              "            style=\"display:none;\">\n",
              "\n",
              "<svg xmlns=\"http://www.w3.org/2000/svg\" height=\"24px\"viewBox=\"0 0 24 24\"\n",
              "     width=\"24px\">\n",
              "    <g>\n",
              "        <path d=\"M19 3H5c-1.1 0-2 .9-2 2v14c0 1.1.9 2 2 2h14c1.1 0 2-.9 2-2V5c0-1.1-.9-2-2-2zM9 17H7v-7h2v7zm4 0h-2V7h2v10zm4 0h-2v-4h2v4z\"/>\n",
              "    </g>\n",
              "</svg>\n",
              "  </button>\n",
              "\n",
              "<style>\n",
              "  .colab-df-quickchart {\n",
              "      --bg-color: #E8F0FE;\n",
              "      --fill-color: #1967D2;\n",
              "      --hover-bg-color: #E2EBFA;\n",
              "      --hover-fill-color: #174EA6;\n",
              "      --disabled-fill-color: #AAA;\n",
              "      --disabled-bg-color: #DDD;\n",
              "  }\n",
              "\n",
              "  [theme=dark] .colab-df-quickchart {\n",
              "      --bg-color: #3B4455;\n",
              "      --fill-color: #D2E3FC;\n",
              "      --hover-bg-color: #434B5C;\n",
              "      --hover-fill-color: #FFFFFF;\n",
              "      --disabled-bg-color: #3B4455;\n",
              "      --disabled-fill-color: #666;\n",
              "  }\n",
              "\n",
              "  .colab-df-quickchart {\n",
              "    background-color: var(--bg-color);\n",
              "    border: none;\n",
              "    border-radius: 50%;\n",
              "    cursor: pointer;\n",
              "    display: none;\n",
              "    fill: var(--fill-color);\n",
              "    height: 32px;\n",
              "    padding: 0;\n",
              "    width: 32px;\n",
              "  }\n",
              "\n",
              "  .colab-df-quickchart:hover {\n",
              "    background-color: var(--hover-bg-color);\n",
              "    box-shadow: 0 1px 2px rgba(60, 64, 67, 0.3), 0 1px 3px 1px rgba(60, 64, 67, 0.15);\n",
              "    fill: var(--button-hover-fill-color);\n",
              "  }\n",
              "\n",
              "  .colab-df-quickchart-complete:disabled,\n",
              "  .colab-df-quickchart-complete:disabled:hover {\n",
              "    background-color: var(--disabled-bg-color);\n",
              "    fill: var(--disabled-fill-color);\n",
              "    box-shadow: none;\n",
              "  }\n",
              "\n",
              "  .colab-df-spinner {\n",
              "    border: 2px solid var(--fill-color);\n",
              "    border-color: transparent;\n",
              "    border-bottom-color: var(--fill-color);\n",
              "    animation:\n",
              "      spin 1s steps(1) infinite;\n",
              "  }\n",
              "\n",
              "  @keyframes spin {\n",
              "    0% {\n",
              "      border-color: transparent;\n",
              "      border-bottom-color: var(--fill-color);\n",
              "      border-left-color: var(--fill-color);\n",
              "    }\n",
              "    20% {\n",
              "      border-color: transparent;\n",
              "      border-left-color: var(--fill-color);\n",
              "      border-top-color: var(--fill-color);\n",
              "    }\n",
              "    30% {\n",
              "      border-color: transparent;\n",
              "      border-left-color: var(--fill-color);\n",
              "      border-top-color: var(--fill-color);\n",
              "      border-right-color: var(--fill-color);\n",
              "    }\n",
              "    40% {\n",
              "      border-color: transparent;\n",
              "      border-right-color: var(--fill-color);\n",
              "      border-top-color: var(--fill-color);\n",
              "    }\n",
              "    60% {\n",
              "      border-color: transparent;\n",
              "      border-right-color: var(--fill-color);\n",
              "    }\n",
              "    80% {\n",
              "      border-color: transparent;\n",
              "      border-right-color: var(--fill-color);\n",
              "      border-bottom-color: var(--fill-color);\n",
              "    }\n",
              "    90% {\n",
              "      border-color: transparent;\n",
              "      border-bottom-color: var(--fill-color);\n",
              "    }\n",
              "  }\n",
              "</style>\n",
              "\n",
              "  <script>\n",
              "    async function quickchart(key) {\n",
              "      const quickchartButtonEl =\n",
              "        document.querySelector('#' + key + ' button');\n",
              "      quickchartButtonEl.disabled = true;  // To prevent multiple clicks.\n",
              "      quickchartButtonEl.classList.add('colab-df-spinner');\n",
              "      try {\n",
              "        const charts = await google.colab.kernel.invokeFunction(\n",
              "            'suggestCharts', [key], {});\n",
              "      } catch (error) {\n",
              "        console.error('Error during call to suggestCharts:', error);\n",
              "      }\n",
              "      quickchartButtonEl.classList.remove('colab-df-spinner');\n",
              "      quickchartButtonEl.classList.add('colab-df-quickchart-complete');\n",
              "    }\n",
              "    (() => {\n",
              "      let quickchartButtonEl =\n",
              "        document.querySelector('#df-ecc1c190-f9a0-42e7-9013-46b3fa892ad3 button');\n",
              "      quickchartButtonEl.style.display =\n",
              "        google.colab.kernel.accessAllowed ? 'block' : 'none';\n",
              "    })();\n",
              "  </script>\n",
              "</div>\n",
              "    </div>\n",
              "  </div>\n"
            ]
          },
          "metadata": {},
          "execution_count": 70
        }
      ]
    },
    {
      "cell_type": "code",
      "metadata": {
        "id": "PqGRzUWDh0Sz"
      },
      "source": [
        "w = torch.zeros(1, requires_grad=True)\n",
        "b = torch.zeros(1, requires_grad=True)\n",
        "\n",
        "x = torch.tensor(diabetes.data[:, -1], dtype=torch.float32)\n",
        "y = torch.tensor(diabetes.target, dtype=torch.float32)"
      ],
      "execution_count": null,
      "outputs": []
    },
    {
      "cell_type": "code",
      "metadata": {
        "id": "ZfSUm56t35Id"
      },
      "source": [
        "y_pred = w * x + b\n",
        "loss = torch.mean((y_pred - y)**2)\n",
        "\n",
        "# propagete gradients\n",
        "loss.backward()"
      ],
      "execution_count": null,
      "outputs": []
    },
    {
      "cell_type": "code",
      "metadata": {
        "colab": {
          "base_uri": "https://localhost:8080/"
        },
        "id": "t715-JTs3_fl",
        "outputId": "55c65c36-778d-41c8-a685-adda5949d7d3"
      },
      "source": [
        "print(\"dL/dw = \\n\", w.grad)\n",
        "print(\"dL/db = \\n\", b.grad)"
      ],
      "execution_count": null,
      "outputs": [
        {
          "output_type": "stream",
          "name": "stdout",
          "text": [
            "dL/dw = \n",
            " tensor([-2.8019])\n",
            "dL/db = \n",
            " tensor([-304.2670])\n"
          ]
        }
      ]
    },
    {
      "cell_type": "code",
      "metadata": {
        "colab": {
          "base_uri": "https://localhost:8080/",
          "height": 447
        },
        "id": "oFUyNOs335d_",
        "outputId": "aa52a493-0e48-437f-a51a-88f3a26d4a96"
      },
      "source": [
        "from IPython.display import clear_output\n",
        "\n",
        "for i in range(100):\n",
        "\n",
        "    y_pred = w * x + b\n",
        "\n",
        "    # Вычисляем функцию ошибок\n",
        "    loss = torch.mean((y_pred - y)**2)\n",
        "\n",
        "    # Вычисляем градиенты\n",
        "    loss.backward()\n",
        "\n",
        "\n",
        "    # Делаем шаг градиентного спуска по матрице весов\n",
        "    w.data -= 0.5*w.grad.data\n",
        "    b.data -= 0.5*b.grad.data\n",
        "\n",
        "    # обнуляем градиенты\n",
        "    w.grad.data.zero_()\n",
        "    b.grad.data.zero_()\n",
        "\n",
        "\n",
        "\n",
        "    # the rest of code is just bells and whistles\n",
        "    if (i+1) % 5 == 0:\n",
        "        clear_output(True)\n",
        "        plt.scatter(x.data.numpy(), y.data.numpy())\n",
        "        plt.scatter(x.data.numpy(), y_pred.data.numpy(),\n",
        "                    color='orange', linewidth=5)\n",
        "        plt.show()\n",
        "\n",
        "        print(\"loss = \", loss.data.numpy())\n",
        "        if loss.data.numpy() < 0.5:\n",
        "            print(\"Done!\")\n",
        "            break"
      ],
      "execution_count": null,
      "outputs": [
        {
          "output_type": "display_data",
          "data": {
            "text/plain": [
              "<Figure size 640x480 with 1 Axes>"
            ],
            "image/png": "[encoded data removed]"
          },
          "metadata": {}
        },
        {
          "output_type": "stream",
          "name": "stdout",
          "text": [
            "loss =  5062.3853\n"
          ]
        }
      ]
    },
    {
      "cell_type": "code",
      "metadata": {
        "id": "1tEfEQEs35jw"
      },
      "source": [],
      "execution_count": null,
      "outputs": []
    },
    {
      "cell_type": "code",
      "metadata": {
        "id": "4BnPqcXM35um"
      },
      "source": [],
      "execution_count": null,
      "outputs": []
    },
    {
      "cell_type": "markdown",
      "metadata": {
        "id": "N8QDKc1D4HHo"
      },
      "source": [
        "Посмотрим градиенты на примере двухслойной сети"
      ]
    },
    {
      "cell_type": "code",
      "metadata": {
        "id": "rYWqXsAjYKCn"
      },
      "source": [
        "dtype = torch.float\n",
        "device = torch.device(\"cuda:0\")\n",
        "# device = torch.device(\"cuda:0\") # Раскомментируйте это, чтобы запустить на GPU\n",
        "\n",
        "# N - размер батча; D_in - входной размер;\n",
        "# H - размер скрытого слоя; D_out - размер вывода.\n",
        "N, D_in, H, D_out = 64, 3, 3, 10\n",
        "N, D_in, H, D_out = 64, 3, 3, 10\n",
        "\n",
        "# Создание случайных тензоров для хранения входных и выходных данных.\n",
        "# Настройка requires_grad = False указывает, что нам не нужно вычислять градиенты\n",
        "# по отношению к этим тензорам во время обратного прохода.\n",
        "x = torch.randn(N, D_in, device=device, dtype=dtype)\n",
        "y = torch.randn(N, D_out, device=device, dtype=dtype)\n",
        "\n",
        "# Создаем тензоры случайных весов.\n",
        "# Настройка requires_grad = True указывает, что мы хотим вычислять градиенты с\n",
        "# уважение к этим тензорам во время обратного прохода.\n",
        "\n",
        "# Create random Tensors for weights.\n",
        "# Установка requires_grad = True указывает, что мы хотим вычислить градиенты\n",
        "# относительно этих тензоров во время обратного прохода.\n",
        "w1 = torch.randn(D_in, H, device=device, dtype=dtype, requires_grad=True)\n",
        "w2 = torch.randn(H, D_out, device=device, dtype=dtype, requires_grad=True)"
      ],
      "execution_count": null,
      "outputs": []
    },
    {
      "cell_type": "code",
      "metadata": {
        "id": "cpDU8Q-LifdW"
      },
      "source": [
        "y_pred = (x @ w1).clamp(min=0).matmul(w2)\n",
        "loss = (y_pred - y).pow(2).sum()\n",
        "\n",
        "# вычисляем градиенты\n",
        "loss.backward()"
      ],
      "execution_count": null,
      "outputs": []
    },
    {
      "cell_type": "code",
      "metadata": {
        "id": "T3vfuF-wXS8O",
        "colab": {
          "base_uri": "https://localhost:8080/"
        },
        "outputId": "be500df6-fce8-4b54-b0e9-954428b74eff"
      },
      "source": [
        "print((y_pred - y).pow(2).sum())"
      ],
      "execution_count": null,
      "outputs": [
        {
          "output_type": "stream",
          "name": "stdout",
          "text": [
            "tensor(3329.2061, device='cuda:0', grad_fn=<SumBackward0>)\n"
          ]
        }
      ]
    },
    {
      "cell_type": "code",
      "metadata": {
        "id": "qLkn5C7JYKCp",
        "colab": {
          "base_uri": "https://localhost:8080/"
        },
        "outputId": "53382cba-39e6-4444-dce3-6cfdda5a4806"
      },
      "source": [
        "w1.grad, w2.grad"
      ],
      "execution_count": null,
      "outputs": [
        {
          "output_type": "execute_result",
          "data": {
            "text/plain": [
              "(tensor([[ -976.6740,   114.5829,   261.4722],\n",
              "         [  129.0030,   -87.4485,  -693.2852],\n",
              "         [ -879.0057,   497.5070, -1112.4919]], device='cuda:0'),\n",
              " tensor([[ 1.7104e+02,  1.7207e+02,  4.3050e+02, -7.3536e+02, -4.3053e+02,\n",
              "          -9.2488e+01,  4.2623e+02,  6.2211e+01,  1.9490e+02, -1.3691e+02],\n",
              "         [-4.8422e+01,  7.1862e+00, -3.5437e+01, -4.5189e+01,  6.5898e+00,\n",
              "           5.6796e+01, -2.2583e-03, -5.6755e+01, -1.9024e+02, -3.6591e+01],\n",
              "         [-6.1110e+00,  6.5230e+01,  1.5203e+02, -2.3185e+01, -1.7118e+02,\n",
              "          -6.7278e+01,  2.4703e+02,  8.1335e+01, -3.9187e+01, -2.2187e+00]],\n",
              "        device='cuda:0'))"
            ]
          },
          "metadata": {},
          "execution_count": 80
        }
      ]
    },
    {
      "cell_type": "code",
      "metadata": {
        "id": "jr19Gh3ZU2Ws",
        "colab": {
          "base_uri": "https://localhost:8080/"
        },
        "outputId": "b8cf9dc8-64c4-4338-f5c4-17eb9f89c462"
      },
      "source": [
        "loss.grad # нет доступа к нелистовым градиентам в дереве AD"
      ],
      "execution_count": null,
      "outputs": [
        {
          "output_type": "stream",
          "name": "stderr",
          "text": [
            "<ipython-input-81-391fe38783cc>:1: UserWarning: The .grad attribute of a Tensor that is not a leaf Tensor is being accessed. Its .grad attribute won't be populated during autograd.backward(). If you indeed want the .grad field to be populated for a non-leaf Tensor, use .retain_grad() on the non-leaf Tensor. If you access the non-leaf Tensor by mistake, make sure you access the leaf Tensor instead. See github.com/pytorch/pytorch/pull/30531 for more informations. (Triggered internally at aten/src/ATen/core/TensorBody.h:489.)\n",
            "  loss.grad # нет доступа к нелистовым градиентам в дереве AD\n"
          ]
        }
      ]
    },
    {
      "cell_type": "code",
      "metadata": {
        "id": "9U4CN8EQSrrr"
      },
      "source": [
        "# заставляем переменную запоминать градиенты фнукции потерь\n",
        "y_pred = (x @ w1).clamp(min=0).matmul(w2)\n",
        "# с помощью этой функции\n",
        "y_pred.retain_grad()\n",
        "\n",
        "loss = (y_pred - y).pow(2).sum()\n",
        "loss.retain_grad()\n",
        "\n",
        "loss.backward()"
      ],
      "execution_count": null,
      "outputs": []
    },
    {
      "cell_type": "code",
      "metadata": {
        "id": "IKj2jd0LSwI_",
        "colab": {
          "base_uri": "https://localhost:8080/"
        },
        "outputId": "7a3c2aaf-d3b5-4ced-9ac5-f37c6972228f"
      },
      "source": [
        "loss.grad"
      ],
      "execution_count": null,
      "outputs": [
        {
          "output_type": "execute_result",
          "data": {
            "text/plain": [
              "tensor(1., device='cuda:0')"
            ]
          },
          "metadata": {},
          "execution_count": 83
        }
      ]
    },
    {
      "cell_type": "code",
      "metadata": {
        "id": "CYkrFbD5YKCq"
      },
      "source": [
        "x.grad # не требует градиента"
      ],
      "execution_count": null,
      "outputs": []
    },
    {
      "cell_type": "code",
      "metadata": {
        "id": "ouMNnbtXYKCr"
      },
      "source": [
        "y.grad # не требует градиента"
      ],
      "execution_count": null,
      "outputs": []
    },
    {
      "cell_type": "markdown",
      "metadata": {
        "id": "DIsqxWIvYKCs"
      },
      "source": [
        "**Замечание:** Градиенты помещаются в поле `.grad` тензоров, на которых они вычисляются."
      ]
    },
    {
      "cell_type": "code",
      "metadata": {
        "id": "5wU_TFedYKCt",
        "colab": {
          "base_uri": "https://localhost:8080/"
        },
        "outputId": "58f5b7f4-887b-46ef-8d0e-55ac7ae6cb14"
      },
      "source": [
        "w1"
      ],
      "execution_count": null,
      "outputs": [
        {
          "output_type": "execute_result",
          "data": {
            "text/plain": [
              "tensor([[-1.8179,  0.1903,  0.3773],\n",
              "        [ 1.6797,  0.7378, -0.2871],\n",
              "        [-1.6139,  1.3254, -0.9538]], device='cuda:0', requires_grad=True)"
            ]
          },
          "metadata": {},
          "execution_count": 86
        }
      ]
    },
    {
      "cell_type": "code",
      "metadata": {
        "id": "UhhUL-mwTKaZ"
      },
      "source": [
        "with torch.no_grad():\n",
        "    pass"
      ],
      "execution_count": null,
      "outputs": []
    },
    {
      "cell_type": "markdown",
      "metadata": {
        "id": "J094WEHQYKCv"
      },
      "source": [
        "## Дополнительные материалы"
      ]
    },
    {
      "cell_type": "markdown",
      "metadata": {
        "id": "ftVUTfvUYKCv"
      },
      "source": [
        "*1). Official PyTorch tutorials: https://pytorch.org/tutorials/beginner/blitz/tensor_tutorial.html#sphx-glr-beginner-blitz-tensor-tutorial-py*"
      ]
    },
    {
      "cell_type": "markdown",
      "metadata": {
        "id": "ovymy5F6YKCw"
      },
      "source": [
        "*2). arXiv article about the deep learning frameworks comparison: https://arxiv.org/pdf/1511.06435.pdf*"
      ]
    },
    {
      "cell_type": "markdown",
      "metadata": {
        "id": "VXEEowQAYKCx"
      },
      "source": [
        "*3). Useful repo with different tutorials: https://github.com/yunjey/pytorch-tutorial*"
      ]
    },
    {
      "cell_type": "markdown",
      "metadata": {
        "id": "9cROZcrYYKC0"
      },
      "source": [
        "*4). Facebook AI Research (main contributor of PyTorch) website: https://facebook.ai/developers/tools*"
      ]
    },
    {
      "cell_type": "code",
      "metadata": {
        "id": "tNV-701mhorZ"
      },
      "source": [],
      "execution_count": null,
      "outputs": []
    },
    {
      "cell_type": "code",
      "metadata": {
        "id": "E6q3LRiniE13"
      },
      "source": [],
      "execution_count": null,
      "outputs": []
    },
    {
      "cell_type": "code",
      "metadata": {
        "id": "cZSzhGn1l2xi"
      },
      "source": [],
      "execution_count": null,
      "outputs": []
    }
  ]
}